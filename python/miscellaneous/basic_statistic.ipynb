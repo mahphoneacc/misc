{
 "cells": [
  {
   "cell_type": "markdown",
   "metadata": {
    "collapsed": true
   },
   "source": [
    "Блокнот для выполнения заданий курса \"Основы статистики\""
   ]
  },
  {
   "cell_type": "code",
   "execution_count": null,
   "metadata": {
    "collapsed": true
   },
   "outputs": [],
   "source": [
    "1.5.4\n",
    "\n",
    "Рассчитайте среднеквадратическое отклонение данных выборочных значений:\n",
    "\n",
    "1 5 2 7 1 9 3 8 5 9\n",
    "\n",
    "Не забудьте, что при расчете дисперсии и среднеквадратичного отклонения мы вычитаем единицу из общего числа наблюдений!"
   ]
  },
  {
   "cell_type": "code",
   "execution_count": 4,
   "metadata": {
    "collapsed": true
   },
   "outputs": [],
   "source": [
    "import numpy\n",
    "\n",
    "ar = '1 5 2 7 1 9 3 8 5 9'\n",
    "nar = [int(i) for i in ar.split(' ')]"
   ]
  },
  {
   "cell_type": "code",
   "execution_count": 29,
   "metadata": {},
   "outputs": [
    {
     "data": {
      "text/plain": [
       "[1, 5, 2, 7, 1, 9, 3, 8, 5, 9]"
      ]
     },
     "execution_count": 29,
     "metadata": {},
     "output_type": "execute_result"
    }
   ],
   "source": [
    "nar"
   ]
  },
  {
   "cell_type": "code",
   "execution_count": 5,
   "metadata": {
    "collapsed": true
   },
   "outputs": [],
   "source": [
    "#Среднее значение\n",
    "mean = numpy.mean(nar)"
   ]
  },
  {
   "cell_type": "code",
   "execution_count": 7,
   "metadata": {
    "collapsed": true
   },
   "outputs": [],
   "source": [
    "#Список квадратов отклонений\n",
    "sqrl = [(i - mean)**2 for i in nar]"
   ]
  },
  {
   "cell_type": "code",
   "execution_count": 8,
   "metadata": {},
   "outputs": [
    {
     "data": {
      "text/plain": [
       "[16.0, 0.0, 9.0, 4.0, 16.0, 16.0, 4.0, 9.0, 0.0, 16.0]"
      ]
     },
     "execution_count": 8,
     "metadata": {},
     "output_type": "execute_result"
    }
   ],
   "source": [
    "sqrl"
   ]
  },
  {
   "cell_type": "code",
   "execution_count": 21,
   "metadata": {
    "collapsed": true
   },
   "outputs": [],
   "source": [
    "D = sum(sqrl) / (len(sqrl) - 1)"
   ]
  },
  {
   "cell_type": "code",
   "execution_count": 24,
   "metadata": {},
   "outputs": [
    {
     "data": {
      "text/plain": [
       "3.1622776601683795"
      ]
     },
     "execution_count": 24,
     "metadata": {},
     "output_type": "execute_result"
    }
   ],
   "source": [
    "D**0.5"
   ]
  },
  {
   "cell_type": "code",
   "execution_count": 32,
   "metadata": {},
   "outputs": [
    {
     "data": {
      "image/png": "[encoded data removed]",
      "text/plain": [
       "<matplotlib.figure.Figure at 0x75eaf28>"
      ]
     },
     "metadata": {},
     "output_type": "display_data"
    }
   ],
   "source": [
    "import numpy as np\n",
    "import matplotlib.pyplot as plt\n",
    "\n",
    "data_to_plot = np.array(nar)\n",
    "# data_to_plot = np.array([157,159,161,164,165,166,167,167,167,168,169,170,170,170,171,171,172,172,172,172,173,173,175,175,177,178,178,179,185])\n",
    "\n",
    "plt.figure(1, figsize=(5,6))\n",
    "plt.subplot(111)\n",
    "plt.axis([0,1,0,10])\n",
    "plt.boxplot(data_to_plot, showfliers=True)\n",
    "\n",
    "plt.show()"
   ]
  },
  {
   "cell_type": "code",
   "execution_count": 9,
   "metadata": {
    "collapsed": true
   },
   "outputs": [],
   "source": [
    "# Нахождение среднего\n",
    "def mean(in_list):\n",
    "    return sum(in_list) / len(in_list)\n",
    "\n",
    "#Нахождение дисперсии\n",
    "def variance(in_list):\n",
    "    mean = sum(in_list) / len(in_list)\n",
    "    square_dev_list = [(i - mean)**2 for i in in_list]\n",
    "    return sum(square_dev_list) / (len(square_dev_list) - 1)\n",
    "\n",
    "#Нахождение стандартного отклонения\n",
    "def stand_dev(in_list):\n",
    "    mean = sum(in_list) / len(in_list)\n",
    "    square_dev_list = [(i - mean)**2 for i in in_list]\n",
    "    D = sum(square_dev_list) / (len(square_dev_list) - 1)\n",
    "    return D**0.5\n",
    "\n",
    "#Нахождение стандартизированного списка\n",
    "def z_scores(in_list):\n",
    "    mean = sum(in_list) / len(in_list)\n",
    "    square_dev_list = [(i - mean)**2 for i in in_list]\n",
    "    D = sum(square_dev_list) / (len(square_dev_list) - 1)\n",
    "    sigma = D**0.5\n",
    "    res = [(i - mean) / sigma for i in in_list]\n",
    "    return res\n",
    "\n"
   ]
  },
  {
   "cell_type": "code",
   "execution_count": 13,
   "metadata": {},
   "outputs": [
    {
     "data": {
      "text/plain": [
       "[-1.2649110640673518,\n",
       " 0.0,\n",
       " -0.9486832980505138,\n",
       " 0.6324555320336759,\n",
       " -1.2649110640673518,\n",
       " 1.2649110640673518,\n",
       " -0.6324555320336759,\n",
       " 0.9486832980505138,\n",
       " 0.0,\n",
       " 1.2649110640673518]"
      ]
     },
     "execution_count": 13,
     "metadata": {},
     "output_type": "execute_result"
    }
   ],
   "source": [
    "z_scores(nar)"
   ]
  },
  {
   "cell_type": "markdown",
   "metadata": {},
   "source": [
    "1.9.2\n",
    "Построение доверительных интервалов для выборки.\n",
    "\n",
    "Уровень экспрессии некоторого гена измерялся в эксперименте. Ниже представлены результаты 64 наблюдений.\n",
    "X^ = 100  среднее значение в выборке\n",
    "sd = 4    стандартное отклонение\n",
    "n = 64    кол-во наблюдений\n",
    "se = sd / power(n;0.5) стандартная ошибка среднего     \n",
    "[X^ - 1.96 * se, X^ + 1.96 * se]        доверительный интервал\n",
    "\n",
    "95% выборки содержится в границах [-1.96 * σ, 1.96 * σ]\n"
   ]
  },
  {
   "cell_type": "code",
   "execution_count": 1,
   "metadata": {
    "collapsed": true
   },
   "outputs": [],
   "source": [
    "import numpy\n",
    "dset = [\n",
    "102, 91, 99, 100, 103, 98, 99, 101, 106, 88, 103, 97, 103, 101\n",
    ", 101, 91, 104, 105, 105, 100, 101, 97, 99, 98, 107, 102, 100, 97\n",
    ", 98, 104, 100, 98, 102, 99, 95, 103, 104, 97, 99, 102, 98, 107, 101\n",
    ", 93, 98, 101, 93, 91, 107, 102, 96, 93, 100, 105, 103, 107, 99, 102\n",
    ", 106, 102, 94, 104, 103, 102 \n",
    "] \n",
    "mean = 100  # среднее значение в выборке\n",
    "sd = 4      # стандартное отклонение\n",
    "n = 64      # кол-во наблюдений"
   ]
  },
  {
   "cell_type": "code",
   "execution_count": 2,
   "metadata": {},
   "outputs": [
    {
     "name": "stdout",
     "output_type": "stream",
     "text": [
      "Стандартная ошибка среднего =  0.5\n",
      "С вероятностью 95% среднее генеральной совокупности лежит в интервале [ 99.02 ,  100.98 ]\n"
     ]
    }
   ],
   "source": [
    "se = sd / n**0.5\n",
    "print('Стандартная ошибка среднего = ', se)\n",
    "print('С вероятностью 95% среднее генеральной совокупности лежит в интервале [', mean - 1.96*se,', ', mean + 1.96*se , ']')\n"
   ]
  },
  {
   "cell_type": "markdown",
   "metadata": {},
   "source": [
    "1.9.8 Рассчитайте 99% доверительный интервал для следующего примера:\n",
    "\n",
    "x¯=10\n",
    "sd=5\n",
    "n=100\n",
    "\n",
    "2.575829  "
   ]
  },
  {
   "cell_type": "code",
   "execution_count": 6,
   "metadata": {},
   "outputs": [
    {
     "name": "stdout",
     "output_type": "stream",
     "text": [
      "Стандартная ошибка среднего =  0.5\n",
      "С вероятностью 99% среднее генеральной совокупности лежит в интервале [ 8.7120855 ,  11.2879145 ]\n"
     ]
    }
   ],
   "source": [
    "mean = 10\n",
    "sd = 5\n",
    "n = 100\n",
    "se = sd / n**0.5\n",
    "print('Стандартная ошибка среднего = ', se)\n",
    "print('С вероятностью 99% среднее генеральной совокупности лежит в интервале [', mean - 2.575829*se,', ', mean + 2.575829*se , ']')"
   ]
  },
  {
   "cell_type": "markdown",
   "metadata": {},
   "source": [
    "1.10.3\n",
    "Предположим, что на выздоровление от заболевания в среднем требуется 20 дней. Мы разработали новый препарат и хотим проверить можно ли сократить этот срок. Набрали выборку из 64 пациентов и опробовали на них новый метод лечения. Оказалось, что средний срок выздоровления сократился до 18,5 дней, при среднеквадратическом отклонении равном 4.\n",
    "\n",
    "M= 20\n",
    "N = 64\n",
    "X¯ = 18,5\n",
    "sd = 4"
   ]
  },
  {
   "cell_type": "code",
   "execution_count": 2,
   "metadata": {},
   "outputs": [
    {
     "name": "stdout",
     "output_type": "stream",
     "text": [
      "Стандартная ошибка среднего =  0.5\n",
      "С вероятностью 95% среднее генеральной совокупности лежит в интервале [ 17.52 ,  19.48 ]\n",
      "С вероятностью 99% среднее генеральной совокупности лежит в интервале [ 17.2120855 ,  19.7879145 ]\n"
     ]
    }
   ],
   "source": [
    "mean = 20\n",
    "sd = 4\n",
    "n = 64\n",
    "se = sd / n**0.5\n",
    "print('Стандартная ошибка среднего = ', se)\n",
    "print('С вероятностью 95% среднее генеральной совокупности лежит в интервале [', mean - 1.96*se,', ', mean + 1.96*se , ']')\n",
    "print('С вероятностью 99% среднее генеральной совокупности лежит в интервале [', mean - 2.575829*se,', ', mean + 2.575829*se , ']')"
   ]
  },
  {
   "cell_type": "markdown",
   "metadata": {},
   "source": [
    "1.10.12 Идея статистического вывода, p-уровень значимости\n",
    "Данные некоторого исследования сообщают нам, что средний рост детей в 10 лет составляет 136 сантиметров. Однако это лишь выборочная оценка, и исследователи рассчитали 99% доверительный интервал, который составил [130, 142]. Укажите верные утверждения:"
   ]
  },
  {
   "cell_type": "code",
   "execution_count": 14,
   "metadata": {},
   "outputs": [
    {
     "name": "stdout",
     "output_type": "stream",
     "text": [
      "Стандартная ошибка среднего =  2.305\n",
      "С вероятностью 95% среднее генеральной совокупности лежит в интервале [ 131.4822 ,  140.5178 ]\n",
      "С вероятностью 99% среднее генеральной совокупности лежит в интервале [ 130.062714155 ,  141.937285845 ]\n"
     ]
    }
   ],
   "source": [
    "mean = 136\n",
    "sd = 18.44\n",
    "n = 64\n",
    "se = sd / n**0.5\n",
    "print('Стандартная ошибка среднего = ', se)\n",
    "print('С вероятностью 95% среднее генеральной совокупности лежит в интервале [', mean - 1.96*se,', ', mean + 1.96*se , ']')\n",
    "print('С вероятностью 99% среднее генеральной совокупности лежит в интервале [', mean - 2.575829*se,', ', mean + 2.575829*se , ']')"
   ]
  },
  {
   "cell_type": "markdown",
   "metadata": {},
   "source": [
    "1.10.14 Идея статистического вывода, p-уровень значимости\n",
    "В среднем слушатели курса по введению в статистику набирают 115 баллов, однако, в 2015 году средний балл  случайно выбранных 144 участников составил 118 со стандартным отклонением равным 9. Рассчитайте p уровень значимости для проверки нулевой гипотезы о том, что среднее значение баллов в 2015 году равняется 115."
   ]
  },
  {
   "cell_type": "code",
   "execution_count": 15,
   "metadata": {},
   "outputs": [
    {
     "name": "stdout",
     "output_type": "stream",
     "text": [
      "Стандартная ошибка среднего =  0.75\n",
      "С вероятностью 95% среднее генеральной совокупности лежит в интервале [ 113.53 ,  116.47 ]\n",
      "С вероятностью 99% среднее генеральной совокупности лежит в интервале [ 113.06812825 ,  116.93187175 ]\n"
     ]
    }
   ],
   "source": [
    "mean = 115\n",
    "sd = 9\n",
    "n = 144\n",
    "se = sd / n**0.5\n",
    "print('Стандартная ошибка среднего = ', se)\n",
    "print('С вероятностью 95% среднее генеральной совокупности лежит в интервале [', mean - 1.96*se,', ', mean + 1.96*se , ']')\n",
    "print('С вероятностью 99% среднее генеральной совокупности лежит в интервале [', mean - 2.575829*se,', ', mean + 2.575829*se , ']')"
   ]
  },
  {
   "cell_type": "markdown",
   "metadata": {},
   "source": [
    "2.2.4\n",
    "\n",
    "Процесс денатурации ДНК представляет разрушение водородных связей между двумя цепями этой молекулы и очень сильно зависит от температуры, с которой мы воздействуем на молекулу.\n",
    "\n",
    "Исследоавтель решил проверить, правда ли, что средняя температура плавления ДНК у вида 1 и вида 2 различаются.\n",
    "Для этого он выбрал по 20 наблюдений в каждой выборке.\n",
    "\n",
    "№1  84,7   105,0   98,9   97,9   108,7   81,3   99,4   89,4   93,0   119,3  99,2   99,4   97,1   112,4   99,8   94,7   114,0   95,1   115,5   111,5\n",
    "\n",
    "№2  57,2   68,6   104,4   95,1   89,9   70,8   83,5   60,1   75,7   102,0   69,0   79,6   68,9   98,6   76,0   74,8   56,0   55,6   69,4   59,5\n",
    "\n",
    "При сравнении двух видов между собой в исследовании были получены следующие различия в средней температуре плавления ДНК:\n",
    "\n",
    "        M       SD      N\n",
    "Вид №1  89,9    11,3    20  \n",
    "Вид №2  80,7    11,7    20    \n",
    "\n",
    "\n"
   ]
  },
  {
   "cell_type": "code",
   "execution_count": 1,
   "metadata": {
    "collapsed": true
   },
   "outputs": [],
   "source": [
    "# Нахождение среднего\n",
    "def mean(in_list):\n",
    "    return sum(in_list) / len(in_list)\n",
    "\n",
    "#Нахождение дисперсии\n",
    "def variance(in_list):\n",
    "    mean = sum(in_list) / len(in_list)\n",
    "    square_dev_list = [(i - mean)**2 for i in in_list]\n",
    "    return sum(square_dev_list) / (len(square_dev_list) - 1)\n",
    "\n",
    "#Нахождение стандартного отклонения\n",
    "def stand_dev(in_list):\n",
    "    mean = sum(in_list) / len(in_list)\n",
    "    square_dev_list = [(i - mean)**2 for i in in_list]\n",
    "    D = sum(square_dev_list) / (len(square_dev_list) - 1)\n",
    "    return D**0.5\n",
    "\n",
    "#Нахождение стандартизированного списка\n",
    "def z_scores(in_list):\n",
    "    mean = sum(in_list) / len(in_list)\n",
    "    square_dev_list = [(i - mean)**2 for i in in_list]\n",
    "    D = sum(square_dev_list) / (len(square_dev_list) - 1)\n",
    "    sigma = D**0.5\n",
    "    res = [(i - mean) / sigma for i in in_list]\n",
    "    return res"
   ]
  },
  {
   "cell_type": "code",
   "execution_count": 20,
   "metadata": {},
   "outputs": [
    {
     "name": "stdout",
     "output_type": "stream",
     "text": [
      "cnt_1= 20\n",
      "mean= 100.815\n",
      "variance= 104.99081578947369\n",
      "stand_dev= 100.815\n",
      "z_scores:\n",
      " [-1.5727317514393053, 0.40843204342373557, -0.18689303779126643, -0.2844873134002832, 0.7695308631770981, -1.904552288509963, -0.138095899986758, -1.114038656076926, -0.7626992638844662, 1.8040301846326756, -0.15761475510856165, -0.138095899986758, -0.36256273388749777, 1.1306296829304605, -0.09905818974315211, -0.5967889953491373, 1.2867805239048868, -0.5577512851055314, 1.433171937318412, 1.0427948348823448]\n",
      "\n",
      "\n",
      "\n",
      "cnt_2= 20\n",
      "mean= 75.735\n",
      "variance= 238.95292105263155\n",
      "stand_dev= 15.458102116774606\n",
      "z_scores:\n",
      " [-1.199047584236518, -0.46157024621136034, 1.8543673591658916, 1.2527411097243144, 0.9163479379935413, -0.31925005817141733, 0.5023255727864345, -1.011443700002048, -0.0022641848097261423, 1.6991089722132264, -0.4356938483859158, 0.25003069398835376, -0.4421629478422765, 1.4791595906969508, 0.017143113559356785, -0.06048607991697584, -1.2766767777128507, -1.3025531755382946, -0.4098174505604713, -1.0502582967402143]\n",
      "p_val =  0.8895111955562874\n"
     ]
    }
   ],
   "source": [
    "set_1 = [84.7, 105.0, 98.9, 97.9, 108.7, 81.3, 99.4, 89.4, 93.0, 119.3, 99.2, 99.4, 97.1, 112.4, 99.8, 94.7, 114.0, 95.1, 115.5, 111.5]\n",
    "cnt_1 = len(set_1)\n",
    "mean_1 = mean(set_1)\n",
    "sd_1 = mean(set_1)\n",
    "\n",
    "print('cnt_1=', len(set_1))\n",
    "print('mean=', mean(set_1))\n",
    "print('variance=', variance(set_1))\n",
    "print('stand_dev=', mean(set_1))\n",
    "print('z_scores:\\n', z_scores(set_1))\n",
    "print('\\n\\n');\n",
    "\n",
    "\n",
    "set_2 = [57.2, 68.6, 104.4, 95.1, 89.9, 70.8, 83.5, 60.1, 75.7, 102.0, 69.0, 79.6, 68.9, 98.6, 76.0, 74.8, 56.0, 55.6, 69.4, 59.5]\n",
    "cnt_2 = len(set_2)\n",
    "mean_2 = mean(set_2)\n",
    "sd_2 = mean(set_2)\n",
    "print('cnt_2=', len(set_2))\n",
    "print('mean=', mean(set_2))\n",
    "print('variance=', variance(set_2))\n",
    "print('stand_dev=', stand_dev(set_2))\n",
    "print('z_scores:\\n', z_scores(set_2))\n",
    "\n",
    "p_val = (sd_1 - sd_2) / (((sd_1**2 / cnt_1) + (sd_2**2 / cnt_2) )**0.5)\n",
    "print('p_val = ', p_val)\n"
   ]
  },
  {
   "cell_type": "markdown",
   "metadata": {},
   "source": [
    "2.2.11\n",
    "Знание t-распределения поможет нам корректно рассчитать границы доверительного интервала, особенно в тех случаях, если число наблюдений меньше 30. Ранее при расчете 95% доверительного интервала мы использовали формулу x¯±1,96∗sdx/n√. \n",
    "\n",
    "Однако 95% всех наблюдений в случае t-распределения могут лежать в более широком диапазоне. \n",
    "\n",
    "Рассчитайте доверительный интервал основываясь на знании t - распределения для среднего значения температуры плавления ДНК у первого вида:\n",
    "\n",
    "X¯=89,9 sd=11,3 n=20\n",
    "\n",
    "Для этого определите, в каком диапазоне находится 95 % наблюдений у соответствующего t - распределения (df = n -1) и используйте это значение вместо коэффициента 1,96. \n",
    "\n",
    "Давайте воспользуемся таблицей критических значений для t - распределения для нахождения нужного t - значения ﻿:\n",
    "    \n",
    "В этой таблице нас интересует столбец, где A=0,95 (область под кривой). На пересечении этого столбца и строки с нужным числом степеней свободы и находится интересующее нас значение.\n",
    "\n"
   ]
  },
  {
   "cell_type": "code",
   "execution_count": 28,
   "metadata": {},
   "outputs": [
    {
     "name": "stdout",
     "output_type": "stream",
     "text": [
      "[ 84.61149798709502 ,  95.18850201290499 ]\n"
     ]
    }
   ],
   "source": [
    "mean = 89.9\n",
    "sd = 11.3\n",
    "n = 20\n",
    "t = 2.093\n",
    "print('[',mean - t * sd / n ** 0.5, ', ', mean + t * sd / n ** 0.5,']')"
   ]
  },
  {
   "cell_type": "markdown",
   "metadata": {},
   "source": [
    "2.2.12\n",
    "\n",
    "Первые премии Оскар за лучшую мужскую и женскую роль были вручены в 1929. Данные гистограммы демонстрируют распределение возраста победителей с 1929 по 2014 год (100 мужчин, 100 женщин). Используя t - критерий проверьте, можно ли считать наблюдаемые различия в возрасте между лучшими актрисами и актерами  статистически достоверными.\n",
    "\n",
    "Средний возраст мужчин равен 45, sd = 9.\n",
    "\n",
    "Средний возраст женщин равен 34, sd = 10.\n",
    "\n",
    "\n",
    "\n",
    "Примечание\n",
    "\n",
    "Рассчитав t - значение вы можете сравнить его с табличным, чтоб принять статистическое решение: отклонять ли нулевую гипотезу. http://www.medcalc.org/manual/t-distribution.php\n",
    "\n",
    "Опять же обратимся к таблице t - значений, как и в предыдущем задании найдем критическое значение для нашего эксперимента (на пересечении строки c нужным числом степеней свободы  и столбца, где P=0.05). \n",
    "Если рассчитанное вами t-значение больше табличного: отклоняем нулевую гипотезу при p < 0.05.\n",
    "\n",
    "t = ((X¯_1 - X¯_2) - (M_1 - M_2)) / ((sd_1 ** 2 / n_1) + (sd_2 ** 2 / n_2)) ** 0.5)\n",
    "    "
   ]
  },
  {
   "cell_type": "code",
   "execution_count": 34,
   "metadata": {},
   "outputs": [
    {
     "name": "stdout",
     "output_type": "stream",
     "text": [
      "Стандартная ошибка среднего =  2.0124611797498106\n",
      "Отклонение в σ: 5.465943944999486\n",
      "t= 8.176235608718828\n"
     ]
    }
   ],
   "source": [
    "mean_1 = 45\n",
    "sd_1 = 9\n",
    "mean_2 = 34\n",
    "sd_2 = 10\n",
    "\n",
    "se_1 = sd_1 / n**0.5\n",
    "print('Стандартная ошибка среднего = ', se_1)\n",
    "print('Отклонение в σ:', (mean_1 - mean_2)/se_1)\n",
    "\n",
    "\n",
    "t = (mean_1 - mean_2)  / (((sd_1**2/100)+(sd_2**2/100))**0.5)\n",
    "print('t=',t)\n",
    "\n",
    "\n",
    "\n",
    "#t = 1.984\n",
    "#print('[',mean_1 - t*sd/n**0.5, ', ',mean_1 + t*sd/n**0.5,']')"
   ]
  },
  {
   "cell_type": "code",
   "execution_count": null,
   "metadata": {
    "collapsed": true
   },
   "outputs": [],
   "source": []
  },
  {
   "cell_type": "code",
   "execution_count": null,
   "metadata": {
    "collapsed": true
   },
   "outputs": [],
   "source": [
    "\n"
   ]
  },
  {
   "cell_type": "code",
   "execution_count": 1,
   "metadata": {
    "collapsed": true
   },
   "outputs": [],
   "source": []
  },
  {
   "cell_type": "code",
   "execution_count": 2,
   "metadata": {
    "collapsed": true
   },
   "outputs": [],
   "source": []
  },
  {
   "cell_type": "code",
   "execution_count": 3,
   "metadata": {
    "collapsed": true
   },
   "outputs": [],
   "source": []
  },
  {
   "cell_type": "code",
   "execution_count": 4,
   "metadata": {},
   "outputs": [
    {
     "data": {
      "text/html": [
       "<div>\n",
       "<style>\n",
       "    .dataframe thead tr:only-child th {\n",
       "        text-align: right;\n",
       "    }\n",
       "\n",
       "    .dataframe thead th {\n",
       "        text-align: left;\n",
       "    }\n",
       "\n",
       "    .dataframe tbody tr th {\n",
       "        vertical-align: top;\n",
       "    }\n",
       "</style>\n",
       "<table border=\"1\" class=\"dataframe\">\n",
       "  <thead>\n",
       "    <tr style=\"text-align: right;\">\n",
       "      <th></th>\n",
       "      <th>state</th>\n",
       "      <th>metro_res</th>\n",
       "      <th>white</th>\n",
       "      <th>hs_grad</th>\n",
       "      <th>poverty</th>\n",
       "      <th>female_house</th>\n",
       "    </tr>\n",
       "  </thead>\n",
       "  <tbody>\n",
       "    <tr>\n",
       "      <th>0</th>\n",
       "      <td>Alabama</td>\n",
       "      <td>55.4</td>\n",
       "      <td>71.3</td>\n",
       "      <td>79.9</td>\n",
       "      <td>14.6</td>\n",
       "      <td>14.2</td>\n",
       "    </tr>\n",
       "    <tr>\n",
       "      <th>1</th>\n",
       "      <td>Alaska</td>\n",
       "      <td>65.6</td>\n",
       "      <td>70.8</td>\n",
       "      <td>90.6</td>\n",
       "      <td>8.3</td>\n",
       "      <td>10.8</td>\n",
       "    </tr>\n",
       "    <tr>\n",
       "      <th>2</th>\n",
       "      <td>Arizona</td>\n",
       "      <td>88.2</td>\n",
       "      <td>87.7</td>\n",
       "      <td>83.8</td>\n",
       "      <td>13.3</td>\n",
       "      <td>11.1</td>\n",
       "    </tr>\n",
       "    <tr>\n",
       "      <th>3</th>\n",
       "      <td>Arkansas</td>\n",
       "      <td>52.5</td>\n",
       "      <td>81.0</td>\n",
       "      <td>80.9</td>\n",
       "      <td>18.0</td>\n",
       "      <td>12.1</td>\n",
       "    </tr>\n",
       "    <tr>\n",
       "      <th>4</th>\n",
       "      <td>California</td>\n",
       "      <td>94.4</td>\n",
       "      <td>77.5</td>\n",
       "      <td>81.1</td>\n",
       "      <td>12.8</td>\n",
       "      <td>12.6</td>\n",
       "    </tr>\n",
       "  </tbody>\n",
       "</table>\n",
       "</div>"
      ],
      "text/plain": [
       "        state  metro_res  white  hs_grad  poverty  female_house\n",
       "0     Alabama       55.4   71.3     79.9     14.6          14.2\n",
       "1      Alaska       65.6   70.8     90.6      8.3          10.8\n",
       "2     Arizona       88.2   87.7     83.8     13.3          11.1\n",
       "3    Arkansas       52.5   81.0     80.9     18.0          12.1\n",
       "4  California       94.4   77.5     81.1     12.8          12.6"
      ]
     },
     "execution_count": 4,
     "metadata": {},
     "output_type": "execute_result"
    }
   ],
   "source": []
  },
  {
   "cell_type": "code",
   "execution_count": 3,
   "metadata": {
    "collapsed": true
   },
   "outputs": [],
   "source": []
  },
  {
   "cell_type": "code",
   "execution_count": null,
   "metadata": {
    "collapsed": true
   },
   "outputs": [],
   "source": []
  },
  {
   "cell_type": "code",
   "execution_count": 5,
   "metadata": {},
   "outputs": [
    {
     "data": {
      "image/png": "[encoded data removed]",
      "text/plain": [
       "<matplotlib.figure.Figure at 0x9cbb048>"
      ]
     },
     "metadata": {},
     "output_type": "display_data"
    }
   ],
   "source": []
  },
  {
   "cell_type": "code",
   "execution_count": 6,
   "metadata": {},
   "outputs": [
    {
     "name": "stdout",
     "output_type": "stream",
     "text": [
      "N =  51\n",
      "Mean =  86.01176470588233\n",
      "Variance =  13.883058823529407\n",
      "Std Dev =  3.7259976950515425\n",
      "Std Err =  0.5217440365514945\n"
     ]
    }
   ],
   "source": []
  },
  {
   "cell_type": "code",
   "execution_count": 7,
   "metadata": {},
   "outputs": [
    {
     "name": "stdout",
     "output_type": "stream",
     "text": [
      "covar:  -8.62438823529\n"
     ]
    }
   ],
   "source": [
    "# Рассчитываю коэффициент ковариации\n",
    "mst.covar(x_axis, y_axis)"
   ]
  },
  {
   "cell_type": "code",
   "execution_count": null,
   "metadata": {
    "collapsed": true
   },
   "outputs": [],
   "source": []
  },
  {
   "cell_type": "code",
   "execution_count": null,
   "metadata": {
    "collapsed": true
   },
   "outputs": [],
   "source": []
  },
  {
   "cell_type": "code",
   "execution_count": 9,
   "metadata": {
    "collapsed": true
   },
   "outputs": [],
   "source": []
  },
  {
   "cell_type": "code",
   "execution_count": null,
   "metadata": {
    "collapsed": true
   },
   "outputs": [],
   "source": []
  },
  {
   "cell_type": "code",
   "execution_count": 26,
   "metadata": {},
   "outputs": [
    {
     "data": {
      "text/plain": [
       "51"
      ]
     },
     "execution_count": 26,
     "metadata": {},
     "output_type": "execute_result"
    }
   ],
   "source": []
  },
  {
   "cell_type": "code",
   "execution_count": null,
   "metadata": {},
   "outputs": [],
   "source": []
  },
  {
   "cell_type": "markdown",
   "metadata": {},
   "source": [
    "Вычисление параметров функции"
   ]
  },
  {
   "cell_type": "code",
   "execution_count": 12,
   "metadata": {
    "collapsed": true
   },
   "outputs": [],
   "source": []
  },
  {
   "cell_type": "code",
   "execution_count": 81,
   "metadata": {
    "collapsed": true
   },
   "outputs": [],
   "source": []
  },
  {
   "cell_type": "code",
   "execution_count": 42,
   "metadata": {
    "collapsed": true
   },
   "outputs": [],
   "source": []
  },
  {
   "cell_type": "code",
   "execution_count": 82,
   "metadata": {
    "collapsed": true
   },
   "outputs": [],
   "source": []
  },
  {
   "cell_type": "code",
   "execution_count": 86,
   "metadata": {
    "collapsed": true
   },
   "outputs": [],
   "source": []
  },
  {
   "cell_type": "code",
   "execution_count": 89,
   "metadata": {},
   "outputs": [
    {
     "name": "stdout",
     "output_type": "stream",
     "text": [
      "y =  64.8292902620518 + -0.6217785536325674 x\n"
     ]
    }
   ],
   "source": []
  },
  {
   "cell_type": "code",
   "execution_count": 71,
   "metadata": {
    "collapsed": true
   },
   "outputs": [],
   "source": []
  },
  {
   "cell_type": "code",
   "execution_count": null,
   "metadata": {
    "collapsed": true
   },
   "outputs": [],
   "source": []
  },
  {
   "cell_type": "code",
   "execution_count": 13,
   "metadata": {},
   "outputs": [
    {
     "data": {
      "text/plain": [
       "86.01176470588233"
      ]
     },
     "execution_count": 13,
     "metadata": {},
     "output_type": "execute_result"
    }
   ],
   "source": []
  }
 ],
 "metadata": {
  "kernelspec": {
   "display_name": "Python 3",
   "language": "python",
   "name": "python3"
  },
  "language_info": {
   "codemirror_mode": {
    "name": "ipython",
    "version": 3
   },
   "file_extension": ".py",
   "mimetype": "text/x-python",
   "name": "python",
   "nbconvert_exporter": "python",
   "pygments_lexer": "ipython3",
   "version": "3.6.3"
  }
 },
 "nbformat": 4,
 "nbformat_minor": 2
}
