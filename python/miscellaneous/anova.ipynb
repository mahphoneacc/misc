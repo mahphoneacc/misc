{
 "cells": [
  {
   "cell_type": "code",
   "execution_count": null,
   "metadata": {
    "collapsed": true
   },
   "outputs": [],
   "source": [
    "\n",
    "\n",
    "## по статье http://www.marsja.se/three-ways-to-carry-out-2-way-anova-with-python/\n",
    "\n"
   ]
  },
  {
   "cell_type": "code",
   "execution_count": 1,
   "metadata": {
    "collapsed": true
   },
   "outputs": [],
   "source": [
    "import pandas as pd\n",
    "from statsmodels.graphics.factorplots import interaction_plot\n",
    "from scipy import stats"
   ]
  },
  {
   "cell_type": "code",
   "execution_count": 3,
   "metadata": {
    "collapsed": true
   },
   "outputs": [],
   "source": [
    "data=pd.read_csv('C:\\\\Users\\\\dev\\\\atherosclerosis.csv', sep=',')"
   ]
  },
  {
   "cell_type": "code",
   "execution_count": 4,
   "metadata": {
    "collapsed": true
   },
   "outputs": [],
   "source": [
    "#Картинка\n",
    "fig=interaction_plot(data.dose,data.age,data.expr,colors=['green','red'], markers=['D','^'], ms=10)"
   ]
  },
  {
   "cell_type": "code",
   "execution_count": 5,
   "metadata": {
    "collapsed": true
   },
   "outputs": [],
   "source": [
    "#Степени свободы\n",
    "N =  len(data.expr)\n",
    "m1 = len(data.age.unique())\n",
    "m2 = len(data.dose.unique())\n",
    "df_a = m1 - 1\n",
    "df_b = m2 - 1\n",
    "df_axb = df_a*df_b \n",
    "df_w = N - m1*m2"
   ]
  },
  {
   "cell_type": "code",
   "execution_count": 6,
   "metadata": {
    "collapsed": true
   },
   "outputs": [],
   "source": [
    "#Общее среднее\n",
    "grand_mean = data['expr'].mean()"
   ]
  },
  {
   "cell_type": "code",
   "execution_count": 7,
   "metadata": {
    "collapsed": true
   },
   "outputs": [],
   "source": [
    "#Суммы квадратов\n",
    "ssq_a = sum([(data[data.age ==i].expr.mean()-grand_mean)**2 for i in data.age])\n",
    "ssq_b = sum([(data[data.dose ==i].expr.mean()-grand_mean)**2 for i in data.dose])\n",
    "ssq_t = sum((data.expr - grand_mean)**2)\n",
    "spl_age=[data[data.age == i] for i in data.age.unique()]\n",
    "age_means=[[x_age[x_age.dose == d].expr.mean() for d in x_age.dose] for x_age in spl_age]\n",
    "ssq_w = sum([sum((spl_age[i].expr-age_means[i])**2) for i in range(len(data.age.unique()))])\n",
    "ssq_axb = ssq_t-ssq_a-ssq_b-ssq_w"
   ]
  },
  {
   "cell_type": "code",
   "execution_count": 20,
   "metadata": {},
   "outputs": [
    {
     "data": {
      "text/plain": [
       "[105.15216419053907,\n",
       " 105.15216419053907,\n",
       " 105.15216419053907,\n",
       " 105.15216419053907,\n",
       " 105.15216419053907,\n",
       " 105.15216419053907,\n",
       " 105.15216419053907,\n",
       " 105.15216419053907,\n",
       " 105.15216419053907,\n",
       " 105.15216419053907,\n",
       " 105.15216419053907,\n",
       " 105.15216419053907,\n",
       " 105.15216419053907,\n",
       " 105.15216419053907,\n",
       " 105.15216419053907,\n",
       " 105.15216419053907,\n",
       " 101.63921711835246,\n",
       " 101.63921711835246,\n",
       " 101.63921711835246,\n",
       " 101.63921711835246,\n",
       " 101.63921711835246,\n",
       " 101.63921711835246,\n",
       " 101.63921711835246,\n",
       " 101.63921711835246,\n",
       " 101.63921711835246,\n",
       " 101.63921711835246,\n",
       " 101.63921711835246,\n",
       " 101.63921711835246,\n",
       " 101.63921711835246,\n",
       " 101.63921711835246,\n",
       " 101.63921711835246,\n",
       " 101.63921711835246,\n",
       " 105.15216419053907,\n",
       " 105.15216419053907,\n",
       " 105.15216419053907,\n",
       " 105.15216419053907,\n",
       " 105.15216419053907,\n",
       " 105.15216419053907,\n",
       " 105.15216419053907,\n",
       " 105.15216419053907,\n",
       " 105.15216419053907,\n",
       " 105.15216419053907,\n",
       " 105.15216419053907,\n",
       " 105.15216419053907,\n",
       " 105.15216419053907,\n",
       " 105.15216419053907,\n",
       " 105.15216419053907,\n",
       " 105.15216419053907,\n",
       " 101.63921711835246,\n",
       " 101.63921711835246,\n",
       " 101.63921711835246,\n",
       " 101.63921711835246,\n",
       " 101.63921711835246,\n",
       " 101.63921711835246,\n",
       " 101.63921711835246,\n",
       " 101.63921711835246,\n",
       " 101.63921711835246,\n",
       " 101.63921711835246,\n",
       " 101.63921711835246,\n",
       " 101.63921711835246,\n",
       " 101.63921711835246,\n",
       " 101.63921711835246,\n",
       " 101.63921711835246,\n",
       " 101.63921711835246]"
      ]
     },
     "execution_count": 20,
     "metadata": {},
     "output_type": "execute_result"
    }
   ],
   "source": [
    "[data[data.age==i].expr.mean() for i in data.age]"
   ]
  },
  {
   "cell_type": "code",
   "execution_count": 8,
   "metadata": {
    "collapsed": true
   },
   "outputs": [],
   "source": [
    "#Средние квадраты\n",
    "ms_a = ssq_a / df_a\n",
    "ms_b = ssq_b / df_b\n",
    "ms_axb = ssq_axb / df_axb\n",
    "ms_w = ssq_w / df_w"
   ]
  },
  {
   "cell_type": "code",
   "execution_count": 9,
   "metadata": {
    "collapsed": true
   },
   "outputs": [],
   "source": [
    "#F-значения\n",
    "f_a = ms_a / ms_w\n",
    "f_b = ms_b / ms_w\n",
    "f_axb = ms_axb / ms_w"
   ]
  },
  {
   "cell_type": "code",
   "execution_count": 10,
   "metadata": {
    "collapsed": true
   },
   "outputs": [],
   "source": [
    "#P-значения\n",
    "p_a = stats.f.sf(f_a, df_a, df_w)\n",
    "p_b = stats.f.sf(f_b, df_b, df_w)\n",
    "p_axb = stats.f.sf(f_axb, df_axb, df_w)"
   ]
  },
  {
   "cell_type": "code",
   "execution_count": 11,
   "metadata": {},
   "outputs": [
    {
     "name": "stdout",
     "output_type": "stream",
     "text": [
      "               sum_sq  df          F      PR(>F)\n",
      "age        197.452754   1    7.44984  0.00831345\n",
      "dose        16.912241   1   0.638094    0.427552\n",
      "age:dose     0.927077   1  0.0349784    0.852272\n",
      "Residual  1590.257424  60        NaN         NaN\n"
     ]
    }
   ],
   "source": [
    "#результаты\n",
    "results = {'sum_sq':[ssq_a, ssq_b, ssq_axb, ssq_w],\n",
    "           'df':[df_a, df_b, df_axb, df_w],\n",
    "           'F':[f_a, f_b, f_axb, 'NaN'],\n",
    "            'PR(>F)':[p_a, p_b, p_axb, 'NaN']}\n",
    "columns=['sum_sq', 'df', 'F', 'PR(>F)']\n",
    "aov_table1 = pd.DataFrame(results, columns=columns,\n",
    "                          index=['age', 'dose', \n",
    "                          'age:dose', 'Residual'])\n",
    "print(aov_table1)"
   ]
  }
 ],
 "metadata": {
  "kernelspec": {
   "display_name": "Python 3",
   "language": "python",
   "name": "python3"
  },
  "language_info": {
   "codemirror_mode": {
    "name": "ipython",
    "version": 3
   },
   "file_extension": ".py",
   "mimetype": "text/x-python",
   "name": "python",
   "nbconvert_exporter": "python",
   "pygments_lexer": "ipython3",
   "version": "3.6.3"
  }
 },
 "nbformat": 4,
 "nbformat_minor": 2
}
