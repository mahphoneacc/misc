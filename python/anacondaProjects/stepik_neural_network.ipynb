{
 "cells": [
  {
   "cell_type": "code",
   "execution_count": null,
   "metadata": {},
   "outputs": [],
   "source": [
    "1.3.1"
   ]
  },
  {
   "cell_type": "code",
   "execution_count": 4,
   "metadata": {},
   "outputs": [
    {
     "name": "stdout",
     "output_type": "stream",
     "text": [
      "[1, 0]\n"
     ]
    }
   ],
   "source": [
    "x = [1, 2]\n",
    "\n",
    "print(list(map(lambda c: c % 2, x)))"
   ]
  },
  {
   "cell_type": "code",
   "execution_count": 5,
   "metadata": {},
   "outputs": [
    {
     "name": "stdout",
     "output_type": "stream",
     "text": [
      "<map object at 0x0000000004D57240>\n"
     ]
    }
   ],
   "source": [
    "print(map(lambda c: c % 2, x))"
   ]
  },
  {
   "cell_type": "code",
   "execution_count": null,
   "metadata": {},
   "outputs": [],
   "source": []
  },
  {
   "cell_type": "code",
   "execution_count": null,
   "metadata": {},
   "outputs": [],
   "source": [
    "1.3.2 Напишите формулу для производной по x функции 3x**2−sin(2x)logy. Переменные x и y не зависят друг от друга. \n",
    "\n",
    "3x**2' = 6x\n",
    "sin(2x)' = 2 cos 2x\n",
    "logy' = 1/y"
   ]
  },
  {
   "cell_type": "markdown",
   "metadata": {},
   "source": [
    "6 * x - 2 * cos (2*x) * log(y) # правильный ответ"
   ]
  },
  {
   "cell_type": "code",
   "execution_count": null,
   "metadata": {},
   "outputs": [],
   "source": [
    "6 * x - 2 * cos (2*x) * log(y) - sin(2 * x) / y  # неправильный ответ, т.к. требовалась производная по X"
   ]
  },
  {
   "cell_type": "code",
   "execution_count": null,
   "metadata": {},
   "outputs": [],
   "source": []
  },
  {
   "cell_type": "markdown",
   "metadata": {},
   "source": [
    "1.3.3 Чему равна производная функции ((ax+b) / (cx+d))' по x?"
   ]
  },
  {
   "cell_type": "markdown",
   "metadata": {},
   "source": [
    "(U / V)' = (U'V -V'U) / V**2"
   ]
  },
  {
   "cell_type": "code",
   "execution_count": null,
   "metadata": {},
   "outputs": [],
   "source": [
    "(ad - bc) / (cx + d)**2"
   ]
  },
  {
   "cell_type": "code",
   "execution_count": null,
   "metadata": {},
   "outputs": [],
   "source": []
  },
  {
   "cell_type": "code",
   "execution_count": null,
   "metadata": {},
   "outputs": [],
   "source": [
    "1.3.4 Чему равна производная функции ((ax+b) / (cx+d))' по c?\n",
    "\n"
   ]
  },
  {
   "cell_type": "code",
   "execution_count": null,
   "metadata": {},
   "outputs": [],
   "source": [
    "- x(ax+b) / (cx + d)**2"
   ]
  },
  {
   "cell_type": "code",
   "execution_count": null,
   "metadata": {},
   "outputs": [],
   "source": []
  },
  {
   "cell_type": "code",
   "execution_count": null,
   "metadata": {},
   "outputs": [],
   "source": [
    "1.3.5 Чему равна производная функции 1 / 4 Ln ((x**2 - 1)/(x**2 + 1)) в точке x = 3"
   ]
  },
  {
   "cell_type": "code",
   "execution_count": null,
   "metadata": {},
   "outputs": [],
   "source": [
    "logy' = 1/y"
   ]
  },
  {
   "cell_type": "code",
   "execution_count": 6,
   "metadata": {},
   "outputs": [
    {
     "name": "stdout",
     "output_type": "stream",
     "text": [
      "0.3125\n"
     ]
    }
   ],
   "source": [
    "x = 3\n",
    "y = 1 / 4 * ((x**2 + 1) / (x**2 - 1))\n",
    "print(y)"
   ]
  },
  {
   "cell_type": "code",
   "execution_count": null,
   "metadata": {},
   "outputs": [],
   "source": []
  },
  {
   "cell_type": "code",
   "execution_count": null,
   "metadata": {},
   "outputs": [],
   "source": [
    "0.0375"
   ]
  },
  {
   "cell_type": "code",
   "execution_count": null,
   "metadata": {},
   "outputs": [],
   "source": []
  },
  {
   "cell_type": "code",
   "execution_count": null,
   "metadata": {},
   "outputs": [],
   "source": [
    "1.3.6 Задача \"опять 25\". Мы не будем заниматься арифметикой, но нам нужно проверить, что вы помните свойства степеней =)\n",
    "\n",
    "Найдите, чему равно ((5**2)**(5**3)*50**100)/(100**50*(5**3)**(5**2)*25**137)"
   ]
  },
  {
   "cell_type": "code",
   "execution_count": 7,
   "metadata": {},
   "outputs": [
    {
     "data": {
      "text/plain": [
       "5.0"
      ]
     },
     "execution_count": 7,
     "metadata": {},
     "output_type": "execute_result"
    }
   ],
   "source": [
    "((5**2)**(5**3)*50**100)/(100**50*(5**3)**(5**2)*25**137)"
   ]
  },
  {
   "cell_type": "code",
   "execution_count": null,
   "metadata": {},
   "outputs": [],
   "source": []
  },
  {
   "cell_type": "code",
   "execution_count": null,
   "metadata": {},
   "outputs": [],
   "source": []
  },
  {
   "cell_type": "markdown",
   "metadata": {},
   "source": [
    "1.3.7 Найдите значение (Log2(8) + Log2(18))/(2log2(2) + log2(3))\n"
   ]
  },
  {
   "cell_type": "markdown",
   "metadata": {},
   "source": [
    "$$ \\frac{Log_{2}8 + Log_{2}18}{2log_{2}2 + log_{2}3} $$"
   ]
  },
  {
   "cell_type": "markdown",
   "metadata": {},
   "source": []
  },
  {
   "cell_type": "markdown",
   "metadata": {},
   "source": [
    "1)  $$ Log_{a}b + Log_{a}c=Log_{a}(b*c)  $$\n",
    "\n",
    "2) $$ nLog_{a}(b) = Log_{a}(b^n) $$\n",
    "\n",
    "3) $$ \\frac{Log_{c}a}{Log_{c}b} = Log_{b}a $$\n",
    "\n",
    "$$ \\large Log_{a^k}a = \\frac{1}{k} $$"
   ]
  },
  {
   "cell_type": "code",
   "execution_count": null,
   "metadata": {},
   "outputs": [],
   "source": []
  },
  {
   "cell_type": "code",
   "execution_count": null,
   "metadata": {},
   "outputs": [],
   "source": []
  },
  {
   "cell_type": "code",
   "execution_count": 9,
   "metadata": {},
   "outputs": [
    {
     "data": {
      "text/plain": [
       "1.940659723182404"
      ]
     },
     "execution_count": 9,
     "metadata": {},
     "output_type": "execute_result"
    }
   ],
   "source": [
    "(3 + 18**0.5) / (2 + 3**0.5)"
   ]
  },
  {
   "cell_type": "code",
   "execution_count": null,
   "metadata": {},
   "outputs": [],
   "source": [
    "2"
   ]
  },
  {
   "cell_type": "code",
   "execution_count": null,
   "metadata": {},
   "outputs": [],
   "source": []
  },
  {
   "cell_type": "markdown",
   "metadata": {},
   "source": [
    "1.3.8 Найдите значение $$ Log_{225}20 * Log_{289}15 * Log_{20}17 $$"
   ]
  },
  {
   "cell_type": "markdown",
   "metadata": {},
   "source": [
    "$$ Log_{225}20 * Log_{289}15 * Log_{20}17  = Log_{225}15 * Log_{289}17 * Log_{20}20 = \\frac{1}{2} * \\frac{1}{2} * 1 = \\frac{1}{4} $$"
   ]
  },
  {
   "cell_type": "code",
   "execution_count": null,
   "metadata": {},
   "outputs": [],
   "source": []
  },
  {
   "cell_type": "markdown",
   "metadata": {},
   "source": [
    "1.3.8 Найдите точку локального максимума функции\n",
    "\n",
    "$$ f(x,y) = x^3 + 4y^3 - 3x - 3y $$\n",
    "\n",
    "Запишите ответ в виде двух чисел (координата по x, координата по y) в десятичном формате через запятую, отделяя целую часть от дробной точкой (например,\n",
    "2.5, -3\n",
    ", если вы считаете, что \n",
    "\n",
    "$$ max{f(x,y)|x,y ∈ \\mathbb {R}} = f(2.5,−3)). $$"
   ]
  },
  {
   "cell_type": "code",
   "execution_count": null,
   "metadata": {},
   "outputs": [],
   "source": [
    "-1, -0.5"
   ]
  },
  {
   "cell_type": "code",
   "execution_count": null,
   "metadata": {},
   "outputs": [],
   "source": []
  },
  {
   "cell_type": "markdown",
   "metadata": {},
   "source": [
    "1.3.9 Укажите, какие из предложенных операций можно осуществить для матриц A размера 3×4, B размера 3×6 и C размера 4×6."
   ]
  },
  {
   "cell_type": "code",
   "execution_count": null,
   "metadata": {},
   "outputs": [],
   "source": [
    "1) размерности при умножении ведут себя так: [n x m]*[m x k]=[n x k]\n",
    "2)при суммировании размерность не меняется и суммировать можно только одинаковые по размерностям матрицы\n",
    "\n",
    "[n x m]+[ n x m ]=[ n x m ] "
   ]
  },
  {
   "cell_type": "code",
   "execution_count": null,
   "metadata": {},
   "outputs": [],
   "source": []
  },
  {
   "cell_type": "code",
   "execution_count": null,
   "metadata": {},
   "outputs": [],
   "source": []
  },
  {
   "cell_type": "markdown",
   "metadata": {},
   "source": [
    "## Линейная алгебра\n",
    "\n",
    "### Вектор\n",
    "1. умножение на константу\n",
    "2. Сложение векторов \n",
    "3. Вычитание векторов\n",
    "4. Взятие длины вектора\n",
    "5. Скалярное произведение\n",
    "6. Векторное произведение\n",
    "\n",
    "Вектор - это набор из нескольких чисел, записанных в столбик и заключенных в круглые или квадратные скобки.\n",
    "\n",
    "$$ v = \\left[ \n",
    "    \\begin{array}{ccc}\n",
    "    e_{1} \\\\ \n",
    "    e_{2}  \\\\\n",
    "    ..  \\\\\n",
    "    e_{n} \\\\\n",
    "    \\end{array}\n",
    "\\right] $$\n",
    "\n",
    "Размерность вектора - количество элементов в данном наборе. Для вектора $v$ это будет $n$. Размерность вектора это натуральное число. Элементы вектора могут быть любого типа.\n",
    "\n",
    "#### умножение на константу\n",
    "\n",
    "\n"
   ]
  },
  {
   "cell_type": "markdown",
   "metadata": {},
   "source": [
    "$$ a = \n",
    "\\left[ \n",
    "    \\begin{array}{ccc}\n",
    "    x_{1} \\\\ \n",
    "    x_{2}  \\\\\n",
    "    ..  \\\\\n",
    "    x_{n} \\\\\n",
    "    \\end{array}\n",
    "\\right] \n",
    "b = \n",
    "\\left[ \n",
    "    \\begin{array}{ccc}\n",
    "    y_{1} \\\\ \n",
    "    y_{2}  \\\\\n",
    "    ..  \\\\\n",
    "    y_{n} \\\\\n",
    "    \\end{array}\n",
    "\\right]  \n",
    "$$"
   ]
  },
  {
   "cell_type": "markdown",
   "metadata": {},
   "source": [
    "пусть есть константа $c$, тогда произведение вектора $a$ и константы $c$ будет равно новому вектору, в котором каждый элемент просто домножен на $c$."
   ]
  },
  {
   "cell_type": "markdown",
   "metadata": {},
   "source": [
    "$ a \\cdot c = \n",
    "\\left[ \n",
    "    \\begin{array}{ccc}\n",
    "    x_{1}c \\\\ \n",
    "    x_{2}c  \\\\\n",
    "    ..  \\\\\n",
    "    x_{n}c \\\\\n",
    "    \\end{array}\n",
    "\\right]\n",
    "$"
   ]
  },
  {
   "cell_type": "code",
   "execution_count": null,
   "metadata": {},
   "outputs": [],
   "source": [
    "#### сложение векторов\n",
    "\n",
    "Если размерности двух векторов совпадают, то мы можем рассмотреть их суммму"
   ]
  },
  {
   "cell_type": "markdown",
   "metadata": {},
   "source": [
    "$ a + b = \n",
    "\\left[ \n",
    "    \\begin{array}{ccc}\n",
    "    x_{1} + y_{1} \\\\ \n",
    "    x_{2} + y_{2} \\\\\n",
    "    ..  \\\\\n",
    "    x_{n} + y_{n} \\\\\n",
    "    \\end{array}\n",
    "\\right]\n",
    "$"
   ]
  },
  {
   "cell_type": "markdown",
   "metadata": {},
   "source": [
    "#### разность векторов"
   ]
  },
  {
   "cell_type": "markdown",
   "metadata": {},
   "source": [
    "$a - b = \\left[ \n",
    "    \\begin{array}{ccc}\n",
    "    x_{1}-y_{1} \\\\ \n",
    "    x_{2}-y_{2} \\\\\n",
    "    ..  \\\\\n",
    "    x_{n}-y_{n} \\\\\n",
    "    \\end{array}\n",
    "\\right]$"
   ]
  },
  {
   "cell_type": "markdown",
   "metadata": {},
   "source": [
    "#### взятие длины вектора\n",
    "\n",
    "Длиной вектора называется число равное корню суммы квадратов всех его элементов"
   ]
  },
  {
   "cell_type": "markdown",
   "metadata": {},
   "source": [
    "$|a| = \\sqrt{x_{1}^2 + x_{2}^2 + .. + x_{n}^2}$"
   ]
  },
  {
   "cell_type": "markdown",
   "metadata": {},
   "source": [
    "#### скалярное произведение \n",
    "\n",
    "скалярное произведение двух векторов равно сумме попарных произведений соответвующих (имеющих одинаковый индекс) элементов."
   ]
  },
  {
   "cell_type": "markdown",
   "metadata": {},
   "source": [
    "$a \\cdot b = x_{1}y_{1} + x_{2}y_{2} + .. x_{n}y_{n} = |a|\\cdot|b|\\cdot cos \\alpha$"
   ]
  },
  {
   "cell_type": "markdown",
   "metadata": {},
   "source": [
    "#### векторное произведение "
   ]
  },
  {
   "cell_type": "markdown",
   "metadata": {},
   "source": [
    "$ a\\times b$"
   ]
  },
  {
   "cell_type": "code",
   "execution_count": null,
   "metadata": {},
   "outputs": [],
   "source": []
  },
  {
   "cell_type": "markdown",
   "metadata": {},
   "source": [
    "1.4.4\n",
    "\n",
    "## Геометрический смысл векторов\n",
    "1. Свободные векторы\n",
    "2. Скользящие векторы\n",
    "3. Связанные (фиксированные) векторы\n",
    "\n",
    "Вектор - это направленный отрезок. \n",
    "Угол между двумя векторами - это минимальный угол, на который нужно повернуть один из них, чтобы он совпал с другим.\n",
    "\n",
    "\n",
    "\n"
   ]
  },
  {
   "cell_type": "markdown",
   "metadata": {},
   "source": [
    "#### Скалярное произведение\n",
    "опустим перпендикуляр из вектора A на прямую на которой лежит вектор B. Между ними угол $\\varphi$. Отрезок до перпендикуляра $a$."
   ]
  },
  {
   "cell_type": "markdown",
   "metadata": {},
   "source": [
    "$A\\cdot B = |A|\\cdot|B|\\cdot cos \\varphi \\\\\n",
    "cos\\varphi = \\frac{a}{|A|} \\\\\n",
    "cos\\varphi \\cdot |A| = a\n",
    "$"
   ]
  },
  {
   "cell_type": "markdown",
   "metadata": {},
   "source": [
    "Т.е. $cos\\varphi \\cdot |A|$ равен проекции вектора A на вектор B. "
   ]
  },
  {
   "cell_type": "markdown",
   "metadata": {},
   "source": [
    "Скалярное произведение векторов A и B это длина проекции первого вектора на второй, масштабированная на длину второго вектора. Это верно для n-мерного пространства."
   ]
  },
  {
   "cell_type": "markdown",
   "metadata": {},
   "source": [
    "$$ \\frac{A \\cdot B}{|A| \\cdot |B|} $$"
   ]
  },
  {
   "cell_type": "markdown",
   "metadata": {},
   "source": [
    "$A \\cdot B$ это скалярное прозведение (равно сумме попарно умноженных соответствующих координат), $|A|\\cdot|B|$ это произведение длин векторов. Это равно косинусу угла между ними."
   ]
  },
  {
   "cell_type": "markdown",
   "metadata": {},
   "source": [
    "$$ \\frac{A \\cdot B}{|A| \\cdot |B|} = cos\\varphi$$"
   ]
  },
  {
   "cell_type": "markdown",
   "metadata": {},
   "source": [
    "Зная косинус, можно узнать про угол между ними. Можно просто взять arccos от этого выражения и узнать угол между векторами. Данный факт имеет приложение в анализе данных, сигналов."
   ]
  },
  {
   "cell_type": "markdown",
   "metadata": {},
   "source": []
  },
  {
   "cell_type": "markdown",
   "metadata": {},
   "source": [
    "## 1.5 Матрицы\n",
    "Матрица это прямоугольный набор чисел, записанный между квадратными или круглыми скобками."
   ]
  },
  {
   "cell_type": "markdown",
   "metadata": {},
   "source": [
    "$\\left[ \n",
    "    \\begin{array}{ccc}\n",
    "    a_{11}..a_{1m} \\\\ \n",
    "    a_{21}..a_{2m} \\\\\n",
    "    ..  \\\\\n",
    "    a_{n1}..a_{nm} \\\\\n",
    "    \\end{array}\n",
    "\\right]$"
   ]
  },
  {
   "cell_type": "markdown",
   "metadata": {},
   "source": [
    "Элемент $a_{ij}$ находится в i строке, j столбце. Запись $B_{n\\times m}$ означает, что у матрицы B n рядов и m столбцов"
   ]
  },
  {
   "cell_type": "markdown",
   "metadata": {},
   "source": [
    "### Векторы как одномерные матрицы\n",
    "Вектор - это частный случай матрицы.\n",
    "Существуют вектор-столбцы и вектор-строки."
   ]
  },
  {
   "cell_type": "markdown",
   "metadata": {},
   "source": [
    "### Операции над матрицами\n",
    "#### сложение матриц\n",
    "    Если у двух матриц совпадают размерности, то их можно сложить. Сумма двух матриц имеет ту же размерность, что и исходные матрицы. Элементы попозиционно складываются."
   ]
  },
  {
   "cell_type": "markdown",
   "metadata": {},
   "source": [
    "#### умножение на число\n",
    "Каждый элемент матрицы умножается на это число."
   ]
  },
  {
   "cell_type": "markdown",
   "metadata": {},
   "source": [
    "#### произведение матриц\n",
    "Чтобы матрицы A И B можно было перемножить, количество столбцов первой матрицы должно совпадать с количеством рядов второй. При этом получится матрица C размерности "
   ]
  },
  {
   "cell_type": "code",
   "execution_count": null,
   "metadata": {},
   "outputs": [],
   "source": []
  },
  {
   "cell_type": "markdown",
   "metadata": {},
   "source": [
    "## NumPy Основы"
   ]
  },
  {
   "cell_type": "code",
   "execution_count": 1,
   "metadata": {},
   "outputs": [],
   "source": [
    "import numpy as np"
   ]
  },
  {
   "cell_type": "code",
   "execution_count": 2,
   "metadata": {},
   "outputs": [
    {
     "name": "stdout",
     "output_type": "stream",
     "text": [
      "[[1 2 3]\n",
      " [4 5 6]]\n"
     ]
    }
   ],
   "source": [
    "a = np.array([[1,2,3], [4,5,6]])  # создаём массив\n",
    "print(a)  # смотрим на массив\n",
    "\n"
   ]
  },
  {
   "cell_type": "code",
   "execution_count": 3,
   "metadata": {},
   "outputs": [
    {
     "data": {
      "text/plain": [
       "(2, 3)"
      ]
     },
     "execution_count": 3,
     "metadata": {},
     "output_type": "execute_result"
    }
   ],
   "source": [
    "a.shape  # смотрим на форму массива\n"
   ]
  },
  {
   "cell_type": "markdown",
   "metadata": {},
   "source": [
    "- array(object) — n-мерный массив из любой (возможно, вложенной) последовательности,\n",
    "- eye(N, M=N, k=0) -- двумерный массив с N строками с единицами на диагонали и нулями во всех остальных позициях. Число столбцов M по умолчанию равно N, k — сдвиг диагонали (0 для основной диагонали, положительные числа для верхних диагоналей и отрицательные для нижних),\n",
    "- zeros(shape) -- новый массив указанной формы, заполненный нулями,\n",
    "- ones(shape) -- новый массив указанной формы, заполненный единицами,\n",
    "- full(shape, fill_value) -- новый массив указанной формы, заполненный fill_value."
   ]
  },
  {
   "cell_type": "code",
   "execution_count": 8,
   "metadata": {},
   "outputs": [
    {
     "data": {
      "text/plain": [
       "array([[0., 0., 0., 0., 0.],\n",
       "       [1., 0., 0., 0., 0.],\n",
       "       [0., 1., 0., 0., 0.],\n",
       "       [0., 0., 1., 0., 0.]])"
      ]
     },
     "execution_count": 8,
     "metadata": {},
     "output_type": "execute_result"
    }
   ],
   "source": [
    "np.eye(4, 5, -1)"
   ]
  },
  {
   "cell_type": "code",
   "execution_count": 20,
   "metadata": {},
   "outputs": [
    {
     "data": {
      "text/plain": [
       "array([[0., 0., 0., 0.],\n",
       "       [0., 0., 0., 0.],\n",
       "       [0., 0., 0., 0.]])"
      ]
     },
     "execution_count": 20,
     "metadata": {},
     "output_type": "execute_result"
    }
   ],
   "source": [
    "np.zeros([3,4] )"
   ]
  },
  {
   "cell_type": "code",
   "execution_count": 19,
   "metadata": {},
   "outputs": [
    {
     "data": {
      "text/plain": [
       "array([[1., 1., 1., 1.],\n",
       "       [1., 1., 1., 1.]])"
      ]
     },
     "execution_count": 19,
     "metadata": {},
     "output_type": "execute_result"
    }
   ],
   "source": [
    "np.ones([2, 4])"
   ]
  },
  {
   "cell_type": "code",
   "execution_count": 21,
   "metadata": {},
   "outputs": [
    {
     "data": {
      "text/plain": [
       "array([[8, 8, 8],\n",
       "       [8, 8, 8]])"
      ]
     },
     "execution_count": 21,
     "metadata": {},
     "output_type": "execute_result"
    }
   ],
   "source": [
    "np.full([2,3], 8)"
   ]
  },
  {
   "cell_type": "code",
   "execution_count": 22,
   "metadata": {},
   "outputs": [
    {
     "data": {
      "text/plain": [
       "array([[1, 2, 3],\n",
       "       [4, 5, 6]])"
      ]
     },
     "execution_count": 22,
     "metadata": {},
     "output_type": "execute_result"
    }
   ],
   "source": [
    "a"
   ]
  },
  {
   "cell_type": "code",
   "execution_count": 32,
   "metadata": {},
   "outputs": [
    {
     "data": {
      "text/plain": [
       "array([4, 6])"
      ]
     },
     "execution_count": 32,
     "metadata": {},
     "output_type": "execute_result"
    }
   ],
   "source": [
    "a[1,::2,]"
   ]
  },
  {
   "cell_type": "code",
   "execution_count": 33,
   "metadata": {},
   "outputs": [
    {
     "data": {
      "text/plain": [
       "array([2, 5])"
      ]
     },
     "execution_count": 33,
     "metadata": {},
     "output_type": "execute_result"
    }
   ],
   "source": [
    "a[..., 1]"
   ]
  },
  {
   "cell_type": "code",
   "execution_count": 34,
   "metadata": {},
   "outputs": [
    {
     "data": {
      "text/plain": [
       "array([2, 5])"
      ]
     },
     "execution_count": 34,
     "metadata": {},
     "output_type": "execute_result"
    }
   ],
   "source": [
    "a[:, 1]"
   ]
  },
  {
   "cell_type": "code",
   "execution_count": null,
   "metadata": {},
   "outputs": [],
   "source": [
    "#### 1.6.5 \n",
    "Создайте и напечатайте (с помощью функции print) массив класса np.ndarray ширины 4 и высоты 3 с двойками на главной диагонали и единицами на первой диагонали над главной, т.е. воплощение матрицы\n",
    "\n",
    "⎛⎝⎜200120012001⎞⎠⎟\n",
    "Обратите внимание на то, что мы используем Python 3, где print() принимает аргументы в скобках.\n",
    "\n",
    "Подсказка: простым путём может быть использование сложения и умножения на константу."
   ]
  },
  {
   "cell_type": "code",
   "execution_count": 12,
   "metadata": {},
   "outputs": [
    {
     "data": {
      "text/plain": [
       "array([[1, 0, 0, 0],\n",
       "       [0, 1, 0, 0],\n",
       "       [0, 0, 1, 0]])"
      ]
     },
     "execution_count": 12,
     "metadata": {},
     "output_type": "execute_result"
    }
   ],
   "source": [
    "a = np.eye(3,4, dtype=int)\n",
    "a"
   ]
  },
  {
   "cell_type": "code",
   "execution_count": 13,
   "metadata": {},
   "outputs": [
    {
     "data": {
      "text/plain": [
       "array([[0, 1, 0, 0],\n",
       "       [0, 0, 1, 0],\n",
       "       [0, 0, 0, 1]])"
      ]
     },
     "execution_count": 13,
     "metadata": {},
     "output_type": "execute_result"
    }
   ],
   "source": [
    "b = np.eye(3, 4, 1, dtype=int)\n",
    "b"
   ]
  },
  {
   "cell_type": "code",
   "execution_count": 45,
   "metadata": {},
   "outputs": [
    {
     "name": "stdout",
     "output_type": "stream",
     "text": [
      "[[1 2 0 0]\n",
      " [0 1 2 0]\n",
      " [0 0 1 2]]\n"
     ]
    }
   ],
   "source": [
    "print(a + 2*b)"
   ]
  },
  {
   "cell_type": "code",
   "execution_count": 14,
   "metadata": {},
   "outputs": [
    {
     "name": "stdout",
     "output_type": "stream",
     "text": [
      "[[2 1 0 0]\n",
      " [0 2 1 0]\n",
      " [0 0 2 1]]\n"
     ]
    }
   ],
   "source": [
    "a = np.eye(3,4, dtype=int)\n",
    "b = np.eye(3, 4, 1, dtype=int)\n",
    "print(2*a + b)"
   ]
  },
  {
   "cell_type": "code",
   "execution_count": 16,
   "metadata": {},
   "outputs": [],
   "source": [
    "a = (2*a + b)"
   ]
  },
  {
   "cell_type": "code",
   "execution_count": 17,
   "metadata": {},
   "outputs": [
    {
     "data": {
      "text/plain": [
       "array([2, 1, 0, 0, 0, 2, 1, 0, 0, 0, 2, 1])"
      ]
     },
     "execution_count": 17,
     "metadata": {},
     "output_type": "execute_result"
    }
   ],
   "source": [
    "a.flatten()"
   ]
  },
  {
   "cell_type": "code",
   "execution_count": 57,
   "metadata": {},
   "outputs": [
    {
     "data": {
      "text/plain": [
       "array([[2, 0, 0],\n",
       "       [1, 2, 0],\n",
       "       [0, 1, 2],\n",
       "       [0, 0, 1]])"
      ]
     },
     "execution_count": 57,
     "metadata": {},
     "output_type": "execute_result"
    }
   ],
   "source": [
    "a.T"
   ]
  },
  {
   "cell_type": "code",
   "execution_count": null,
   "metadata": {},
   "outputs": [],
   "source": [
    "a.transpose(*axes)"
   ]
  },
  {
   "cell_type": "code",
   "execution_count": 52,
   "metadata": {},
   "outputs": [
    {
     "data": {
      "text/plain": [
       "array([[2, 1, 0, 0, 0, 2],\n",
       "       [1, 0, 0, 0, 2, 1]])"
      ]
     },
     "execution_count": 52,
     "metadata": {},
     "output_type": "execute_result"
    }
   ],
   "source": [
    "a.reshape([2,6])"
   ]
  },
  {
   "cell_type": "code",
   "execution_count": 19,
   "metadata": {},
   "outputs": [
    {
     "name": "stdout",
     "output_type": "stream",
     "text": [
      "[[[389 753 794]\n",
      "  [ 67  39 463]]\n",
      "\n",
      " [[961 653 602]\n",
      "  [972 956 708]]]\n"
     ]
    }
   ],
   "source": [
    "import random\n",
    "w = np.array(random.sample(range(1000), 12)) # одномерный массив из 12 случайных чисел от 1 до 1000\n",
    "w = w.reshape((2,2,3)) # превратим w в трёхмерную матрицу\n",
    "print(w)"
   ]
  },
  {
   "cell_type": "code",
   "execution_count": 20,
   "metadata": {},
   "outputs": [
    {
     "name": "stdout",
     "output_type": "stream",
     "text": [
      "[[[389  67]\n",
      "  [753  39]\n",
      "  [794 463]]\n",
      "\n",
      " [[961 972]\n",
      "  [653 956]\n",
      "  [602 708]]]\n"
     ]
    }
   ],
   "source": [
    "print(w.transpose(0,2,1))"
   ]
  },
  {
   "cell_type": "markdown",
   "metadata": {},
   "source": [
    "#### 1.6.7\n",
    "Массив, который нужно было создать в предыдущей задаче, хранится в переменной mat. Превратите его в вертикальный вектор и напечатайте"
   ]
  },
  {
   "cell_type": "code",
   "execution_count": 58,
   "metadata": {},
   "outputs": [
    {
     "data": {
      "text/plain": [
       "array([[2, 1, 0, 0],\n",
       "       [0, 2, 1, 0],\n",
       "       [0, 0, 2, 1]])"
      ]
     },
     "execution_count": 58,
     "metadata": {},
     "output_type": "execute_result"
    }
   ],
   "source": [
    "mat = a\n",
    "mat"
   ]
  },
  {
   "cell_type": "code",
   "execution_count": 60,
   "metadata": {},
   "outputs": [
    {
     "name": "stdout",
     "output_type": "stream",
     "text": [
      "[[2]\n",
      " [1]\n",
      " [0]\n",
      " [0]\n",
      " [0]\n",
      " [2]\n",
      " [1]\n",
      " [0]\n",
      " [0]\n",
      " [0]\n",
      " [2]\n",
      " [1]]\n"
     ]
    }
   ],
   "source": [
    "print(mat.reshape([12,1]))"
   ]
  },
  {
   "cell_type": "markdown",
   "metadata": {},
   "source": [
    "### 1.6.8 Основные методы ndarray\n"
   ]
  },
  {
   "cell_type": "code",
   "execution_count": 1,
   "metadata": {},
   "outputs": [],
   "source": [
    "import numpy as np"
   ]
  },
  {
   "cell_type": "markdown",
   "metadata": {},
   "source": [
    "#### Базовые статистики\n",
    "- a.min(axis=None), a.max(axis=None), a.mean(axis=None), a.std(axis=None) — минимум, максимум, среднее арифметическое и стандартное отклонение вдоль указанной оси. По умолчанию ось не указана и статистика считается по всему массиву. a.argmin(axis=None), a.argmax(axis=None) — индексы минимального и максимального элемента. \n",
    "Пример:\n",
    ">>> print(v)\n",
    "[[1 2 3 4]\n",
    " [1 2 3 4]\n",
    " [1 2 3 4]]\n",
    ">>> print(v.mean(axis=0))  # вдоль столбцов\n",
    "[ 1.  2.  3.  4.]\n",
    ">>> print(v.mean(axis=1))  # вдоль строк\n",
    "[ 2.5  2.5  2.5]\n",
    ">>> print(v.mean(axis=None))  # вдоль всего массива\n",
    "2.5\n"
   ]
  },
  {
   "cell_type": "code",
   "execution_count": 2,
   "metadata": {},
   "outputs": [],
   "source": [
    " v = np.array([[1, 2, 3, 4],\n",
    " [1, 2, 3, 4],\n",
    " [1, 2, 3, 4]])"
   ]
  },
  {
   "cell_type": "code",
   "execution_count": 8,
   "metadata": {},
   "outputs": [
    {
     "name": "stdout",
     "output_type": "stream",
     "text": [
      "[[1 2 3 4]\n",
      " [1 2 3 4]\n",
      " [1 2 3 4]]\n"
     ]
    }
   ],
   "source": [
    "print(v)"
   ]
  },
  {
   "cell_type": "code",
   "execution_count": 9,
   "metadata": {},
   "outputs": [
    {
     "name": "stdout",
     "output_type": "stream",
     "text": [
      "[1. 2. 3. 4.]\n"
     ]
    }
   ],
   "source": [
    "print(v.mean(axis=0))  # вдоль столбцов"
   ]
  },
  {
   "cell_type": "code",
   "execution_count": 10,
   "metadata": {},
   "outputs": [
    {
     "name": "stdout",
     "output_type": "stream",
     "text": [
      "[2.5 2.5 2.5]\n"
     ]
    }
   ],
   "source": [
    "print(v.mean(axis=1))  # вдоль строк"
   ]
  },
  {
   "cell_type": "code",
   "execution_count": 11,
   "metadata": {},
   "outputs": [
    {
     "name": "stdout",
     "output_type": "stream",
     "text": [
      "2.5\n"
     ]
    }
   ],
   "source": [
    "print(v.mean(axis=None))  # вдоль всего массива"
   ]
  },
  {
   "cell_type": "markdown",
   "metadata": {},
   "source": [
    "\n",
    "Чтобы лучше понять, почему говорят «усреднение вдоль оси» — можно нарисовать эту матрицу на бумажке и прямыми линиями соединить те элементы, которые сливаются в один при усреднении. Чтобы было совсем понятно — можно ещё добавить координатные оси, чтобы каждый элемент $w_{ij}$ оказался над точкой ($i,j$).\n",
    "- a.sum(axis=None), a.prod(axis=None) — сумма и произведение всех элементов вдоль указанной оси. a.cumsum(axis=None), a.cumprod(axis=None) — частичные суммы и произведения (для ($a_{1},⋯,a_{n}$) вектор частичных сумм — это ($a_{1},a_{1}+a_{2},⋯,a_{1}+⋯+a_{n}$)).\n",
    "\n",
    "#### Линейная алгебра\n",
    "\n",
    "Пакет\n",
    "numpy.linalg\n",
    "содержит большую часть стандартных операций и разложений матриц. Некоторые самые популярные функции вынесены в корень пакета NumPy.\n",
    "- a.dot(b) — матричное произведение двух массивов (размерности должны быть согласованы),\n",
    "linalg.matrix_power(M, n) — возведение матрицы M в степень n,\n",
    "- a.T — транспонирование\n",
    "- linalg.norm(a, ord=None) — норма матрицы a, по умолчанию норма Фробениуса для матриц и L2-норма для векторов; подробное описание возможных норм — в справке,\n",
    "- linalg.inv(a) — матрица, обратная к a (если a необратима, выбрасывается LinAlgError; псевдообратная считается через linalg.pinv(a))\n",
    "\n",
    "a = w.dot([1,2,3])\n",
    "print(a)\n",
    "[[4740 2671]\n",
    " [2552 2912]]\n",
    "ainv = np.linalg.inv(a)\n",
    "print(a.dot(ainv))\n",
    "[[  1.00000000e+00   0.00000000e+00]\n",
    " [ -2.22044605e-16   1.00000000e+00]]"
   ]
  },
  {
   "cell_type": "code",
   "execution_count": 23,
   "metadata": {},
   "outputs": [
    {
     "name": "stdout",
     "output_type": "stream",
     "text": [
      "[[4277 1534]\n",
      " [4073 5008]]\n"
     ]
    }
   ],
   "source": [
    "a = w.dot([1,2,3])\n",
    "print(a)"
   ]
  },
  {
   "cell_type": "code",
   "execution_count": 24,
   "metadata": {},
   "outputs": [
    {
     "name": "stdout",
     "output_type": "stream",
     "text": [
      "[[ 0.0003301  -0.00010111]\n",
      " [-0.00026847  0.00028192]]\n"
     ]
    }
   ],
   "source": [
    "ainv = np.linalg.inv(a)\n",
    "print(ainv)"
   ]
  },
  {
   "cell_type": "markdown",
   "metadata": {},
   "source": [
    "### 1.6.9 \n",
    "Задача: перемножьте две матрицы!\n",
    "\n",
    "На вход программе подаются две матрицы, каждая в следующем формате: на первой строке два целых положительных числа n и m, разделенных пробелом - $размерность \\; матрицы$. В следующей строке находится $n\\cdot m$ целых чисел, разделенных пробелами - элементы матрицы. Подразумевается, что матрица заполняется $построчно$, то есть первые m чисел - первый ряд матрицы, числа от $m+1$ до $2 \\cdot m$ - второй, и т.д.\n",
    "\n",
    "Напечатайте произведение матриц $XY^T$, если они имеют подходящую форму, или строку \"matrix shapes do not match\", если формы матриц не совпадают должным образом. \n",
    "\n",
    "В этот раз мы проделали за вас подготовительную работу по считыванию матриц (когда вы начнёте решать, этот код будет уже написан):\n",
    "\n",
    "x_shape = tuple(map(int, input().split()))\n",
    "X = np.fromiter(map(int, input().split()), np.int).reshape(x_shape)\n",
    " Несколько комментариев:\n",
    "\n",
    "map(f, iterable, …) — встроенная функция языка Python, возвращает результат поэлементного применения функции f к элементам последовательности iterable; если f принимает несколько аргументов, то на вход должно быть подано соответствующее число последовательностей: результатом map(f, x, y, z) будет итератор, возвращающий поочерёдно f(x[0], y[0], z[0]), f(x[1], y[1], z[1]), f(x[2], y[2], z[2]) и так далее; результат применения f к очередному набору аргументов вычисляется только тогда, когда требуется использовать этот результат, но не ранее, подробнее и короче в справке;\n",
    "np.fromiter создаёт NumPy-массив из итератора, то есть заставляет итератор вычислить все доступные значения и сохраняет их в массив;\n",
    "input() — встроенная функция языка Python, читает одну строку (последовательность символов вплоть до символа переноса строки) из входного потока данных и возвращает её как строку;\n",
    "split() — метод класса string, возвращает список слов в строке (здесь слова — последовательности символов, разделённые пробельными символами); принимает дополнительные аргументы, подробнее в справке."
   ]
  },
  {
   "cell_type": "code",
   "execution_count": 29,
   "metadata": {},
   "outputs": [
    {
     "name": "stdout",
     "output_type": "stream",
     "text": [
      "2 3\n",
      "8 7 7 14 4 6\n",
      "4 3\n",
      "5 5 1 5 2 6 3 3 9 1 4 6\n"
     ]
    }
   ],
   "source": [
    "x_shape = tuple(map(int, input().split()))\n",
    "X = np.fromiter(map(int, input().split()), np.int).reshape(x_shape)\n",
    "y_shape = tuple(map(int, input().split()))\n",
    "Y = np.fromiter(map(int, input().split()), np.int).reshape(y_shape)"
   ]
  },
  {
   "cell_type": "code",
   "execution_count": 5,
   "metadata": {},
   "outputs": [],
   "source": [
    "X = np.array([[8, 7, 7],\n",
    " [14, 4, 6]])\n",
    "Y = np.array([[5, 5, 1],\n",
    " [5, 2, 6],\n",
    " [3, 3, 9],\n",
    " [1, 4, 6],])"
   ]
  },
  {
   "cell_type": "code",
   "execution_count": 7,
   "metadata": {},
   "outputs": [
    {
     "name": "stdout",
     "output_type": "stream",
     "text": [
      "[[ 8  7  7]\n",
      " [14  4  6]]\n",
      "[[5 5 1]\n",
      " [5 2 6]\n",
      " [3 3 9]\n",
      " [1 4 6]]\n",
      "[[5 5 3 1]\n",
      " [5 2 3 4]\n",
      " [1 6 9 6]]\n"
     ]
    }
   ],
   "source": [
    "print(X)\n",
    "print(Y)\n",
    "print(Y.transpose())"
   ]
  },
  {
   "cell_type": "code",
   "execution_count": 15,
   "metadata": {},
   "outputs": [
    {
     "name": "stdout",
     "output_type": "stream",
     "text": [
      "3\n",
      "3\n"
     ]
    }
   ],
   "source": [
    "print(X.shape[1])\n",
    "print(Y.shape[1])"
   ]
  },
  {
   "cell_type": "code",
   "execution_count": 17,
   "metadata": {},
   "outputs": [
    {
     "name": "stdout",
     "output_type": "stream",
     "text": [
      "[[ 82  96 108  78]\n",
      " [ 96 114 108  66]]\n"
     ]
    }
   ],
   "source": [
    "if X.shape[1] == Y.shape[1]:\n",
    "    print(X.dot(Y.transpose()))\n",
    "else: \n",
    "    print('matrix shapes do not match')"
   ]
  },
  {
   "cell_type": "markdown",
   "metadata": {},
   "source": [
    "### 1.6.10 Как считать данные из файла\n",
    "\n",
    "sbux = np.loadtxt(\"sbux.csv\", usecols=(0,1,4), skiprows=1, delimiter=\",\", \n",
    "\n",
    "                      dtype={'names': ('date', 'open', 'close'),\n",
    "                      \n",
    "                             'formats': ('datetime64[D]', 'f4', 'f4')})\n",
    "print(sbux[0:4])\n",
    "\n",
    "[(datetime.date(2015, 9, 1), 53.0, 57.2599983215332)\n",
    "\n",
    " (datetime.date(2015, 8, 3), 58.619998931884766, 54.709999084472656)\n",
    " \n",
    " (datetime.date(2015, 7, 1), 53.86000061035156, 57.93000030517578)\n",
    " \n",
    " (datetime.date(2015, 6, 1), 51.959999084472656, 53.619998931884766)]"
   ]
  },
  {
   "cell_type": "code",
   "execution_count": 21,
   "metadata": {},
   "outputs": [
    {
     "name": "stdout",
     "output_type": "stream",
     "text": [
      "[[ 8  7  7]\n",
      " [14  4  6]]\n",
      "[11.   5.5  6.5]\n"
     ]
    }
   ],
   "source": [
    "print(X)\n",
    "print(X.mean(axis=0))"
   ]
  },
  {
   "cell_type": "code",
   "execution_count": 22,
   "metadata": {},
   "outputs": [],
   "source": [
    "from urllib.request import urlopen\n",
    "f = urlopen('https://stepic.org/media/attachments/lesson/16462/boston_houses.csv')"
   ]
  },
  {
   "cell_type": "code",
   "execution_count": 25,
   "metadata": {},
   "outputs": [],
   "source": [
    "t = np.loadtxt(f, skiprows = 1, delimiter=\",\")"
   ]
  },
  {
   "cell_type": "code",
   "execution_count": 27,
   "metadata": {},
   "outputs": [
    {
     "data": {
      "text/plain": [
       "array([22.50755467,  3.63495427, 11.39562624,  0.0695825 ,  0.55506899,\n",
       "        6.28199602,  3.78979602])"
      ]
     },
     "execution_count": 27,
     "metadata": {},
     "output_type": "execute_result"
    }
   ],
   "source": [
    "t.mean(axis=0)"
   ]
  },
  {
   "cell_type": "markdown",
   "metadata": {},
   "source": [
    "# 1.7 Линейная алгебра в деле\n",
    "\n",
    "- $X$ - матрица наблюдений (без целевой переменной). Условимся, что n - количество наблюдений, m - количество переменных\n",
    "- $\\beta$ - вектор коэффициентов. Размерность вектора $\\beta$ = m + 1 * 1\n",
    "- $y$ - вектор значений целевой переменной. Его размерность m * 1\n",
    "- $\\epsilon$ - вектор нормально распределненных ошибок. Его размерность m * 1\n",
    "\n",
    "- $\\hat{\\beta}$ - вектор оценок коэффициентов\n",
    "- $\\hat{y}$ - вектор предсказания целевой переменной\n",
    "- $\\hat{\\epsilon}$ - вектор ошибок предсказаний. $\\hat{\\epsilon} = y - \\hat{y}$"
   ]
  },
  {
   "cell_type": "markdown",
   "metadata": {},
   "source": [
    "### Модель линейной регрессии\n",
    "\n",
    "$y_{i} = \\sum\\limits_{j=1}^m \\beta_j X_{i,j} + \\beta_{0} + \\epsilon_{i}$\n",
    "\n",
    "Цель построения модели - получить $\\hat{\\beta}$ такие, что $\\sum\\limits_{i=1}^n (\\hat{y_{i}} - y_{i})^2 \\rightarrow min$\n",
    "\n",
    "1) $(AB)^T = B^TA^T$\n",
    "\n",
    "2) $(1 - H)X = 0 = \\\\\n",
    "    (1 - X(X^TX)^{-1} X^T) = \\\\\n",
    "    X - X(X^TX)^{-1}(X^TX) = \\\\\n",
    "    X - X = 0$\n",
    "    \n",
    " "
   ]
  },
  {
   "cell_type": "markdown",
   "metadata": {},
   "source": [
    "$ H = X (X^T\\cdot X)^{-1}X^T$\n",
    "\n",
    "1) $H^T = H$ - симметрична\n",
    "\n",
    "2) $H \\cdot H = H $ - идемпотентна\n",
    "\n",
    "$Q = \\hat\\epsilon^T \\epsilon = (y - X\\hat\\beta)^T(y - X\\hat\\beta)$\n",
    "\n",
    "$h = Hy + (1 - H)y$\n",
    "\n",
    "$Q = (Hy + (1 - H)y - X\\hat\\beta)^T(Hy + (1 - H)y - X\\hat\\beta) = \\\\\n",
    "= (Hy - X\\hat\\beta + (1 - H)y )^T(Hy - X\\hat\\beta + (1 - H)y ) = \\\\\n",
    "= ((Hy - X\\hat\\beta )^T + ((1 - H)y)^T)((Hy - X\\hat\\beta) + ((1 - H)y)) = \\\\\n",
    "= (Hy - X\\hat\\beta )^T(Hy - X\\hat\\beta) + (Hy - X\\hat\\beta )^T((1 - H)y) + \n",
    "  ((1 - H)y)^T (Hy - X\\hat\\beta ) + ((1 - H)y)^T((1 - H)y) = \\\\\n",
    "= (Hy - X\\hat\\beta )^T(Hy - X\\hat\\beta) + ((1 - H)y)^T((1 - H)y) = \\\\\n",
    "= ((1 - H)y)^T((1 - H)y)\n",
    "$"
   ]
  },
  {
   "cell_type": "markdown",
   "metadata": {},
   "source": [
    "### 1.7.12 \n",
    "\n",
    "Теперь давайте попробуем применить наши новые матричные формулы — сначала на игрушечном примере, который мы рассматривали пару видео назад.\n",
    "\n",
    "У нас есть набор данных: знания о длине тормозного пути и скорости для трёх автомобилей.\n",
    "\n",
    "$ \\left[ \n",
    "    \\begin{array}{ccc}\n",
    "    D \\; V \\\\ \n",
    "    10 \\; 60  \\\\\n",
    "    7 \\;50  \\\\\n",
    "    12 \\; 75 \\\\\n",
    "    \\end{array}\n",
    "\\right] $\n",
    "\n",
    "\n",
    "Напишите через запятую оценки коэффициентов линейной регрессии D на V, т.е. β^0, β^1 для модели $D=β_0+β_1V+ε$ с точностью до трёх знаков после точки.\n"
   ]
  },
  {
   "cell_type": "code",
   "execution_count": 2,
   "metadata": {},
   "outputs": [],
   "source": [
    "import numpy as np"
   ]
  },
  {
   "cell_type": "code",
   "execution_count": 3,
   "metadata": {},
   "outputs": [],
   "source": [
    "# матрица\n",
    "matr = np.array([[10, 60],\n",
    "              [7, 50],\n",
    "              [12, 75]])"
   ]
  },
  {
   "cell_type": "code",
   "execution_count": 4,
   "metadata": {},
   "outputs": [
    {
     "data": {
      "text/plain": [
       "array([[1.],\n",
       "       [1.],\n",
       "       [1.]])"
      ]
     },
     "execution_count": 4,
     "metadata": {},
     "output_type": "execute_result"
    }
   ],
   "source": [
    "# столбец единиц\n",
    "ones = np.ones([3, 1])\n",
    "ones"
   ]
  },
  {
   "cell_type": "code",
   "execution_count": null,
   "metadata": {},
   "outputs": [],
   "source": []
  },
  {
   "cell_type": "code",
   "execution_count": 17,
   "metadata": {},
   "outputs": [
    {
     "name": "stdout",
     "output_type": "stream",
     "text": [
      "[[ 1. 60.]\n",
      " [ 1. 50.]\n",
      " [ 1. 75.]]\n",
      "[10  7 12]\n"
     ]
    }
   ],
   "source": [
    "# Объединить матрицы по-горизонтали, убрать последний столбец\n",
    "X = np.hstack((ones, matr[:, 1].reshape(3,1)))\n",
    "print(X)\n",
    "y = matr[:, 0]\n",
    "print(y)"
   ]
  },
  {
   "cell_type": "code",
   "execution_count": 25,
   "metadata": {},
   "outputs": [
    {
     "data": {
      "text/plain": [
       "array([[3.0000e+00, 1.8500e+02],\n",
       "       [1.8500e+02, 1.1725e+04]])"
      ]
     },
     "execution_count": 25,
     "metadata": {},
     "output_type": "execute_result"
    }
   ],
   "source": [
    "step1 = X.T.dot(X)\n",
    "step1"
   ]
  },
  {
   "cell_type": "code",
   "execution_count": 21,
   "metadata": {},
   "outputs": [
    {
     "data": {
      "text/plain": [
       "array([[ 1.23421053e+01, -1.94736842e-01],\n",
       "       [-1.94736842e-01,  3.15789474e-03]])"
      ]
     },
     "execution_count": 21,
     "metadata": {},
     "output_type": "execute_result"
    }
   ],
   "source": [
    "step2 = np.linalg.inv(step1) # np.linalg.inv(step1)\n",
    "step2"
   ]
  },
  {
   "cell_type": "code",
   "execution_count": 22,
   "metadata": {},
   "outputs": [
    {
     "data": {
      "text/plain": [
       "array([[ 0.65789474,  2.60526316, -2.26315789],\n",
       "       [-0.00526316, -0.03684211,  0.04210526]])"
      ]
     },
     "execution_count": 22,
     "metadata": {},
     "output_type": "execute_result"
    }
   ],
   "source": [
    "step3 = step2.dot(X.T)\n",
    "step3"
   ]
  },
  {
   "cell_type": "code",
   "execution_count": 23,
   "metadata": {},
   "outputs": [
    {
     "data": {
      "text/plain": [
       "array([-2.34210526,  0.19473684])"
      ]
     },
     "execution_count": 23,
     "metadata": {},
     "output_type": "execute_result"
    }
   ],
   "source": [
    "b = step3.dot(y)\n",
    "b"
   ]
  },
  {
   "cell_type": "markdown",
   "metadata": {},
   "source": [
    "### 1.7.13 \n",
    "\n",
    "$\\hat\\beta = (X^T\\cdot X)^{-1}X^Ty$ \n",
    "\n",
    "$ H = X (X^T\\cdot X)^{-1}X^T$\n",
    "\n",
    "$\\hat y = X\\hat\\beta = Hy$\n",
    "\n",
    "\n",
    "\n"
   ]
  },
  {
   "cell_type": "markdown",
   "metadata": {},
   "source": [
    "### 1.7.15\n",
    "\n",
    "Найдите оптимальные коэффициенты для построения линейной регрессии.\n",
    "\n",
    "На вход вашему решению будет подано название csv-файла, из которого нужно считать данные. Пример можно посмотреть здесь. Загрузить их можно следующим образом:\n",
    "\n",
    "fname = input()  # read file name from stdin\n",
    "f = urllib.request.urlopen(fname)  # open file from URL\n",
    "data = np.loadtxt(f, delimiter=',', skiprows=1)  # load data to work with\n",
    "Ваша задача — подсчитать вектор коэффициентов линейной регрессии для предсказания первой переменной (первого столбца данных) по всем остальным. Напомним, что модель линейной регрессии — это y=β0+β1x1+⋯+βnxn.\n",
    "\n",
    "Напечатайте коэффициенты линейной регрессии, начиная с β0, через пробел. Мы будем проверять совпадения с точностью до 4 знаков после запятой.\n",
    "\n",
    "Методы и приёмы, которые мы ещё не упоминали и которые могут вам помочь в процессе решения (могут являться подсказками!):\n",
    "\n",
    "np.hstack((array1, array2, ...))  # склеивает по строкам массивы, являющиеся компонентами кортежа, поданного на вход; массивы должны совпадать по всем измерениям, кроме второго\n",
    "np.ones_like(array)  # создаёт массив, состоящий из единиц, идентичный по форме массиву array\n",
    "\"delim\".join(array)  # возвращает строку, состоящую из элементов array, разделённых символами \"delim\"\n",
    "map(str, array)  # применяет функцию str к каждому элементу array\n",
    "\n",
    "Sample Input:\n",
    "\n",
    "https://stepic.org/media/attachments/lesson/16462/boston_houses.csv\n",
    "Sample Output:\n",
    "\n",
    "-3.65580428507 -0.216395502369 0.0737305981755 4.41245057691 -25.4684487841 7.14320155075 -1.30108767765\n"
   ]
  },
  {
   "cell_type": "code",
   "execution_count": 26,
   "metadata": {},
   "outputs": [],
   "source": [
    "import urllib\n",
    "from urllib import request\n",
    "import numpy as np\n"
   ]
  },
  {
   "cell_type": "code",
   "execution_count": 27,
   "metadata": {},
   "outputs": [],
   "source": [
    "fname = 'https://stepic.org/media/attachments/lesson/16462/boston_houses.csv'"
   ]
  },
  {
   "cell_type": "code",
   "execution_count": 28,
   "metadata": {},
   "outputs": [],
   "source": [
    "#fname = input()  # read file name from stdin\n",
    "f = urllib.request.urlopen(fname)  # open file from URL\n",
    "data = np.loadtxt(f, delimiter=',', skiprows=1)  # load data to work with\n"
   ]
  },
  {
   "cell_type": "code",
   "execution_count": 35,
   "metadata": {},
   "outputs": [
    {
     "data": {
      "text/plain": [
       "array([[2.4000e+01, 6.3200e-03, 1.8000e+01, ..., 5.3800e-01, 6.5750e+00,\n",
       "        4.0900e+00],\n",
       "       [2.1600e+01, 2.7310e-02, 0.0000e+00, ..., 4.6900e-01, 6.4210e+00,\n",
       "        4.9671e+00],\n",
       "       [3.4700e+01, 2.7290e-02, 0.0000e+00, ..., 4.6900e-01, 7.1850e+00,\n",
       "        4.9671e+00],\n",
       "       ...,\n",
       "       [2.3900e+01, 6.0760e-02, 0.0000e+00, ..., 5.7300e-01, 6.9760e+00,\n",
       "        2.1675e+00],\n",
       "       [2.2000e+01, 1.0959e-01, 0.0000e+00, ..., 5.7300e-01, 6.7940e+00,\n",
       "        2.3889e+00],\n",
       "       [1.1900e+01, 4.7410e-02, 0.0000e+00, ..., 5.7300e-01, 6.0300e+00,\n",
       "        2.5050e+00]])"
      ]
     },
     "execution_count": 35,
     "metadata": {},
     "output_type": "execute_result"
    }
   ],
   "source": [
    "data"
   ]
  },
  {
   "cell_type": "code",
   "execution_count": null,
   "metadata": {},
   "outputs": [],
   "source": []
  },
  {
   "cell_type": "code",
   "execution_count": 39,
   "metadata": {},
   "outputs": [
    {
     "data": {
      "text/plain": [
       "array([[2.4000e+01, 6.3200e-03, 1.8000e+01, ..., 5.3800e-01, 6.5750e+00,\n",
       "        4.0900e+00],\n",
       "       [2.1600e+01, 2.7310e-02, 0.0000e+00, ..., 4.6900e-01, 6.4210e+00,\n",
       "        4.9671e+00],\n",
       "       [3.4700e+01, 2.7290e-02, 0.0000e+00, ..., 4.6900e-01, 7.1850e+00,\n",
       "        4.9671e+00],\n",
       "       ...,\n",
       "       [2.3900e+01, 6.0760e-02, 0.0000e+00, ..., 5.7300e-01, 6.9760e+00,\n",
       "        2.1675e+00],\n",
       "       [2.2000e+01, 1.0959e-01, 0.0000e+00, ..., 5.7300e-01, 6.7940e+00,\n",
       "        2.3889e+00],\n",
       "       [1.1900e+01, 4.7410e-02, 0.0000e+00, ..., 5.7300e-01, 6.0300e+00,\n",
       "        2.5050e+00]])"
      ]
     },
     "execution_count": 39,
     "metadata": {},
     "output_type": "execute_result"
    }
   ],
   "source": [
    "data "
   ]
  },
  {
   "cell_type": "code",
   "execution_count": 74,
   "metadata": {},
   "outputs": [
    {
     "data": {
      "text/plain": [
       "array([[6.3200e-03, 1.8000e+01, 0.0000e+00, 5.3800e-01, 6.5750e+00,\n",
       "        4.0900e+00],\n",
       "       [2.7310e-02, 0.0000e+00, 0.0000e+00, 4.6900e-01, 6.4210e+00,\n",
       "        4.9671e+00],\n",
       "       [2.7290e-02, 0.0000e+00, 0.0000e+00, 4.6900e-01, 7.1850e+00,\n",
       "        4.9671e+00],\n",
       "       ...,\n",
       "       [6.0760e-02, 0.0000e+00, 0.0000e+00, 5.7300e-01, 6.9760e+00,\n",
       "        2.1675e+00],\n",
       "       [1.0959e-01, 0.0000e+00, 0.0000e+00, 5.7300e-01, 6.7940e+00,\n",
       "        2.3889e+00],\n",
       "       [4.7410e-02, 0.0000e+00, 0.0000e+00, 5.7300e-01, 6.0300e+00,\n",
       "        2.5050e+00]])"
      ]
     },
     "execution_count": 74,
     "metadata": {},
     "output_type": "execute_result"
    }
   ],
   "source": [
    "data[:, 1:]"
   ]
  },
  {
   "cell_type": "code",
   "execution_count": 81,
   "metadata": {},
   "outputs": [],
   "source": [
    "ones = np.ones([np.shape(data)[0], 1])"
   ]
  },
  {
   "cell_type": "code",
   "execution_count": null,
   "metadata": {},
   "outputs": [],
   "source": []
  },
  {
   "cell_type": "code",
   "execution_count": 80,
   "metadata": {},
   "outputs": [
    {
     "data": {
      "text/plain": [
       "(506, 1)"
      ]
     },
     "execution_count": 80,
     "metadata": {},
     "output_type": "execute_result"
    }
   ],
   "source": [
    "np.shape(ones)"
   ]
  },
  {
   "cell_type": "code",
   "execution_count": 79,
   "metadata": {},
   "outputs": [
    {
     "data": {
      "text/plain": [
       "(506, 6)"
      ]
     },
     "execution_count": 79,
     "metadata": {},
     "output_type": "execute_result"
    }
   ],
   "source": [
    "np.shape(data[:, 1:])"
   ]
  },
  {
   "cell_type": "code",
   "execution_count": 87,
   "metadata": {},
   "outputs": [],
   "source": [
    "X = np.hstack((ones, data[:, 1:].reshape(np.shape(data)[0], np.shape(data)[1] - 1)))"
   ]
  },
  {
   "cell_type": "code",
   "execution_count": null,
   "metadata": {},
   "outputs": [],
   "source": []
  },
  {
   "cell_type": "code",
   "execution_count": 90,
   "metadata": {},
   "outputs": [],
   "source": [
    "y = data[:, 0]"
   ]
  },
  {
   "cell_type": "code",
   "execution_count": 91,
   "metadata": {},
   "outputs": [],
   "source": [
    "X_t_X = X.transpose().dot(X)"
   ]
  },
  {
   "cell_type": "code",
   "execution_count": 92,
   "metadata": {},
   "outputs": [],
   "source": [
    "inv_X_t_X = np.linalg.inv(X_t_X)"
   ]
  },
  {
   "cell_type": "code",
   "execution_count": 93,
   "metadata": {},
   "outputs": [],
   "source": [
    "inv_X_t_X_X_t = inv_X_t_X.dot(X.T)"
   ]
  },
  {
   "cell_type": "code",
   "execution_count": 94,
   "metadata": {},
   "outputs": [],
   "source": [
    "beta = inv_X_t_X_X_t.dot(y)"
   ]
  },
  {
   "cell_type": "code",
   "execution_count": 95,
   "metadata": {},
   "outputs": [
    {
     "name": "stdout",
     "output_type": "stream",
     "text": [
      "-3.6558042850625045 -0.2163955023691484 0.07373059817548466 4.412450576912816 -25.468448784099316 7.143201550746264 -1.3010876776490106\n"
     ]
    }
   ],
   "source": [
    "print(' '.join(list(map(str, beta))))"
   ]
  },
  {
   "cell_type": "markdown",
   "metadata": {},
   "source": [
    "## 2.1 Нейроны\n",
    "\n",
    "Нейропластичность - способность нейронов учитывать опыт предыдущих периодов.\n",
    "Rewiring experiment - эксперимент с перепроводкой путей поступления информации.\n",
    "Сенсорное замещение - использование одного анализатора для сбора информации, обычно получаемого через другой сенсорный орган \n"
   ]
  },
  {
   "cell_type": "markdown",
   "metadata": {},
   "source": [
    "## 2.2 Перцептрон\n",
    "\n",
    "- Модель была предложена и популяризована Ф. Розенблатом, в начале 1960-х. \n",
    "- В 1969 году Мински и Паперт (M.Minsky, S.Papert Perceptrons: an introduction to computational geometry.) в которой рассматривали ограничения перцепртрона. \n",
    "- AI winter 1974-1980 - период спада интереса к технологиям искусственного интеллекта\n",
    "- На сегодняшний день перцептроны используются в задачах с большим числом предикторов.\n",
    "\n",
    "На первичном уровне перцептрон представляет собой искусственный нейрон. У него есть входы и веса, на основании которых формируется выход.\n",
    "Поведение перцептрона можно описать следующей функцией трех аргументов:\n",
    "\n",
    "$$\n",
    "f(x, w, b) = \n",
    "\\left\\{\n",
    "    \\begin{matrix}\n",
    "    1, если \\sum\\limits_{i=1}^m w_i \\cdot x_i + b > 0 \\\\\n",
    "    0 \\; иначе\n",
    "    \\end{matrix} \\right.\n",
    "$$\n",
    "\n",
    "где w - вектор весов, x - вектор входных активаций, b - смещение (bias), а f(w, x, b) - выходная активация перцептрона.\n",
    "\n",
    "Если сумма попарных произведений соответствующих элементов весов и активаций плюс смещение превышает ноль, то перцептрон выдает 1.\n",
    "\n",
    "Если перенести смещение в другую часть неравенства, то получим порог t. Если сумма входов, с учетом важности этих входов превысит порог t, то нейрон активируется.\n",
    "\n",
    "Активационная функция заключается в сравнении с нулем (фукнция Хевисайда (НЕТ))\n",
    "\n",
    "Первый вход фиктивный. На него всегда будет подаваться единица. Этот вход и будет смещением (bias).\n",
    "\n",
    "$b = w_0$\n",
    "\n",
    "Теперь можно записать перцептрон следующим образом. Смещения уже нет. Функция равна 1, если скалярное прозиведение весов и входов больше ноля и 0 в остальных случаях \n",
    "\n",
    "$\n",
    "f(x, w, b) = \n",
    "\\left\\{\n",
    "    \\begin{matrix}\n",
    "    1, w^T x > 0 \\\\\n",
    "    0 \\; w^T x <= 0\n",
    "    \\end{matrix} \\right.\n",
    "$\n",
    "\n",
    "\n",
    "\n"
   ]
  },
  {
   "cell_type": "code",
   "execution_count": null,
   "metadata": {},
   "outputs": [],
   "source": []
  },
  {
   "cell_type": "markdown",
   "metadata": {},
   "source": [
    "$\n",
    "\\begin{equation}\n",
    "    \\begin{matrix}\n",
    "    \\hat{\\Phi}[k,l] & =\n",
    "    & \\left\\{\n",
    "    \\begin{matrix}\n",
    "    0 & \\mbox{if } k,l = 0 \\\\\n",
    "    S_x[k,l]\\cdot H_x[k,l] + S_y[k,l]\\cdot H_y[k,l] & \\mbox{otherwise }\n",
    "    \\end{matrix} \\right.\n",
    "    \\end{matrix}\n",
    "\\end{equation}[\n",
    "$"
   ]
  },
  {
   "cell_type": "markdown",
   "metadata": {},
   "source": []
  },
  {
   "cell_type": "markdown",
   "metadata": {},
   "source": []
  },
  {
   "cell_type": "code",
   "execution_count": null,
   "metadata": {},
   "outputs": [],
   "source": []
  },
  {
   "cell_type": "markdown",
   "metadata": {},
   "source": [
    "$ \\left[ \n",
    "    \\begin{array}{ccc}\n",
    "    x_{1}c \\\\ \n",
    "    x_{2}c  \\\\\n",
    "    ..  \\\\\n",
    "    x_{n}c \\\\\n",
    "    \\end{array}\n",
    "\\right] $\n",
    "\n",
    "$\n",
    "\\begin{equation}\n",
    "    \\begin{matrix}\n",
    "    \\hat{\\Phi}[k,l] & =\n",
    "    & \\left\\{\n",
    "    \\begin{matrix}\n",
    "    0 & \\mbox{if } k,l = 0 \\\\\n",
    "    S_x[k,l]\\cdot H_x[k,l] + S_y[k,l]\\cdot H_y[k,l] & \\mbox{otherwise }\n",
    "    \\end{matrix} \\right.\n",
    "    \\end{matrix}\n",
    "\\end{equation}[\n",
    "$"
   ]
  },
  {
   "cell_type": "markdown",
   "metadata": {},
   "source": []
  },
  {
   "cell_type": "code",
   "execution_count": null,
   "metadata": {},
   "outputs": [],
   "source": []
  },
  {
   "cell_type": "markdown",
   "metadata": {},
   "source": [
    "## 2.3.1 Перцептрон. Обучение"
   ]
  },
  {
   "cell_type": "code",
   "execution_count": 1,
   "metadata": {},
   "outputs": [
    {
     "name": "stdout",
     "output_type": "stream",
     "text": [
      "[1 1]\n"
     ]
    }
   ],
   "source": [
    "import numpy as np\n",
    "# Функция И\n",
    "X=np.array([[0,0],\n",
    "            [1,0],\n",
    "            [0,1],\n",
    "            [1,1]])\n",
    "Y=np.array([0,0,0,1])\n",
    "W=np.array([0,0])\n",
    "\n",
    "def Predict(X,W):\n",
    "    return np.dot(X,W)\n",
    "\n",
    "perfect=False\n",
    "while not(perfect):\n",
    "    perfect=True\n",
    "    if not((Predict(X,W) == Y).all()):\n",
    "        e=np.where((Predict(X,W) == Y)==False)[0][0]\n",
    "        if Y[e]==1:\n",
    "            W+=X[e][:]\n",
    "        else:\n",
    "            W-=X[e][:]\n",
    "\n",
    "print(W)"
   ]
  },
  {
   "cell_type": "markdown",
   "metadata": {},
   "source": [
    "$\\Delta w_i=(y−\\hat y)⋅x_i$"
   ]
  },
  {
   "cell_type": "markdown",
   "metadata": {},
   "source": [
    "### 2.3.3 Перцептрон: обучение\n",
    "\n",
    "Мы погуляли в фруктовом саду и собрали следующие данные про несколько обнаруженных там фруктов:\n",
    "\n",
    "    желтизна    симметричность   это груша\n",
    "1   1           0.3              да\n",
    "2   0.4         0.5              да\n",
    "3   0,7         0.8              нет\n",
    "\n",
    "Пусть у нас есть перцептрон с весами (0, 0) и смещением 0. \n",
    "\n",
    "Обучите его на приведённых данных различать груши и не груши (пока не надо обучать до сходимости: просто примените обучающее правило последовательно по одному разу на каждом примере, всего у вас получится 3 последовательных применения обучающего правила). \n",
    "\n",
    "Напишите в ответе через запятую получившиеся у вас смещение, вес для желтизны фрукта и вес для его симметричности (только итоговые, не надо писать результаты каждого шага).\n",
    "\n"
   ]
  },
  {
   "cell_type": "code",
   "execution_count": 5,
   "metadata": {},
   "outputs": [
    {
     "ename": "TypeError",
     "evalue": "Cannot cast ufunc add output from dtype('float64') to dtype('int32') with casting rule 'same_kind'",
     "output_type": "error",
     "traceback": [
      "\u001b[1;31m---------------------------------------------------------------------------\u001b[0m",
      "\u001b[1;31mTypeError\u001b[0m                                 Traceback (most recent call last)",
      "\u001b[1;32m<ipython-input-5-7e47f55a1b4b>\u001b[0m in \u001b[0;36m<module>\u001b[1;34m()\u001b[0m\n\u001b[0;32m     15\u001b[0m         \u001b[0me\u001b[0m \u001b[1;33m=\u001b[0m \u001b[0mnp\u001b[0m\u001b[1;33m.\u001b[0m\u001b[0mwhere\u001b[0m\u001b[1;33m(\u001b[0m\u001b[1;33m(\u001b[0m\u001b[0mPredict\u001b[0m\u001b[1;33m(\u001b[0m\u001b[0mX\u001b[0m\u001b[1;33m,\u001b[0m \u001b[0mW\u001b[0m\u001b[1;33m)\u001b[0m \u001b[1;33m==\u001b[0m \u001b[0mY\u001b[0m\u001b[1;33m)\u001b[0m\u001b[1;33m==\u001b[0m\u001b[1;32mFalse\u001b[0m\u001b[1;33m)\u001b[0m\u001b[1;33m[\u001b[0m\u001b[1;36m0\u001b[0m\u001b[1;33m]\u001b[0m\u001b[1;33m[\u001b[0m\u001b[1;36m0\u001b[0m\u001b[1;33m]\u001b[0m\u001b[1;33m\u001b[0m\u001b[0m\n\u001b[0;32m     16\u001b[0m         \u001b[1;32mif\u001b[0m \u001b[0mY\u001b[0m\u001b[1;33m[\u001b[0m\u001b[0me\u001b[0m\u001b[1;33m]\u001b[0m \u001b[1;33m==\u001b[0m \u001b[1;36m1\u001b[0m\u001b[1;33m:\u001b[0m\u001b[1;33m\u001b[0m\u001b[0m\n\u001b[1;32m---> 17\u001b[1;33m             \u001b[0mW\u001b[0m \u001b[1;33m+=\u001b[0m \u001b[0mX\u001b[0m\u001b[1;33m[\u001b[0m\u001b[0me\u001b[0m\u001b[1;33m]\u001b[0m\u001b[1;33m[\u001b[0m\u001b[1;33m:\u001b[0m\u001b[1;33m]\u001b[0m\u001b[1;33m\u001b[0m\u001b[0m\n\u001b[0m\u001b[0;32m     18\u001b[0m         \u001b[1;32melse\u001b[0m\u001b[1;33m:\u001b[0m\u001b[1;33m\u001b[0m\u001b[0m\n\u001b[0;32m     19\u001b[0m             \u001b[0mW\u001b[0m \u001b[1;33m-=\u001b[0m \u001b[0mX\u001b[0m\u001b[1;33m[\u001b[0m\u001b[0me\u001b[0m\u001b[1;33m]\u001b[0m\u001b[1;33m[\u001b[0m\u001b[1;33m:\u001b[0m\u001b[1;33m]\u001b[0m\u001b[1;33m\u001b[0m\u001b[0m\n",
      "\u001b[1;31mTypeError\u001b[0m: Cannot cast ufunc add output from dtype('float64') to dtype('int32') with casting rule 'same_kind'"
     ]
    }
   ],
   "source": [
    "# Функция И\n",
    "import numpy as np\n",
    "\n",
    "X = np.array([[1, 1, 0.3],\n",
    "            [1, 0.4, 0.5],\n",
    "            [1, 0.7, 0.8]])\n",
    "Y = np.array([1, 1, 0])\n",
    "W = np.array([0, 0, 0])\n",
    "\n",
    "def Predict(X, W):\n",
    "    return np.dot(X, W)\n",
    "\n",
    "perfect = False\n",
    "while not(perfect):\n",
    "    perfect = True\n",
    "    if not((Predict(X, W) == Y).all()):\n",
    "        e = np.where((Predict(X, W) == Y)==False)[0][0]\n",
    "        if Y[e] == 1:\n",
    "            W += X[e][:]\n",
    "        else:\n",
    "            W -= X[e][:]\n",
    "\n",
    "print(W)"
   ]
  },
  {
   "cell_type": "code",
   "execution_count": 6,
   "metadata": {},
   "outputs": [],
   "source": [
    "X = np.array([[1, 1, 0.3],\n",
    "            [1, 0.4, 0.5],\n",
    "            [1, 0.7, 0.8]])\n",
    "Y = np.array([1, 1, 0])\n",
    "W = np.array([0, 0, 0])\n",
    "\n",
    "def Predict(X, W):\n",
    "    return np.dot(X, W)\n",
    "\n",
    "perfect = False"
   ]
  },
  {
   "cell_type": "code",
   "execution_count": 7,
   "metadata": {},
   "outputs": [],
   "source": [
    "perfect = True"
   ]
  },
  {
   "cell_type": "code",
   "execution_count": 11,
   "metadata": {},
   "outputs": [
    {
     "data": {
      "text/plain": [
       "array([False, False,  True])"
      ]
     },
     "execution_count": 11,
     "metadata": {},
     "output_type": "execute_result"
    }
   ],
   "source": [
    "(Predict(X, W) == Y)"
   ]
  },
  {
   "cell_type": "code",
   "execution_count": 14,
   "metadata": {},
   "outputs": [
    {
     "data": {
      "text/plain": [
       "(array([0, 1], dtype=int64),)"
      ]
     },
     "execution_count": 14,
     "metadata": {},
     "output_type": "execute_result"
    }
   ],
   "source": [
    "np.where((Predict(X, W) == Y)==False)"
   ]
  },
  {
   "cell_type": "code",
   "execution_count": 21,
   "metadata": {},
   "outputs": [
    {
     "data": {
      "text/plain": [
       "array([False, False,  True])"
      ]
     },
     "execution_count": 21,
     "metadata": {},
     "output_type": "execute_result"
    }
   ],
   "source": [
    "Predict(X, W) == Y"
   ]
  },
  {
   "cell_type": "code",
   "execution_count": 22,
   "metadata": {},
   "outputs": [
    {
     "data": {
      "text/plain": [
       "(array([0, 1], dtype=int64),)"
      ]
     },
     "execution_count": 22,
     "metadata": {},
     "output_type": "execute_result"
    }
   ],
   "source": [
    "np.where((Predict(X, W) == Y)==False)"
   ]
  },
  {
   "cell_type": "code",
   "execution_count": 17,
   "metadata": {},
   "outputs": [],
   "source": [
    "e = np.where((Predict(X, W) == Y)==False)[0][0]"
   ]
  },
  {
   "cell_type": "code",
   "execution_count": 18,
   "metadata": {},
   "outputs": [
    {
     "data": {
      "text/plain": [
       "0"
      ]
     },
     "execution_count": 18,
     "metadata": {},
     "output_type": "execute_result"
    }
   ],
   "source": [
    "e"
   ]
  },
  {
   "cell_type": "code",
   "execution_count": 19,
   "metadata": {},
   "outputs": [
    {
     "data": {
      "text/plain": [
       "array([1. , 1. , 0.3])"
      ]
     },
     "execution_count": 19,
     "metadata": {},
     "output_type": "execute_result"
    }
   ],
   "source": [
    "X[e][:]"
   ]
  },
  {
   "cell_type": "code",
   "execution_count": null,
   "metadata": {},
   "outputs": [],
   "source": [
    "\n",
    "if not((Predict(X, W) == Y).all()):\n",
    "    e = np.where((Predict(X, W) == Y)==False)[0][0]\n",
    "    if Y[e] == 1:\n",
    "        W += X[e][:]\n",
    "    else:\n",
    "        W -= X[e][:]"
   ]
  },
  {
   "cell_type": "code",
   "execution_count": 23,
   "metadata": {},
   "outputs": [
    {
     "name": "stdout",
     "output_type": "stream",
     "text": [
      "w shape (1, 3)\n",
      "iteration:  0\n",
      "e [1.  1.  0.3]\n",
      "example  [1.  1.  0.3]\n",
      "sum  0.0\n",
      "example  [1.  1.  0.3]\n",
      "sum  0.0\n",
      "w  2\n",
      "e [1.  0.4 0.5]\n",
      "example  [1.  0.4 0.5]\n",
      "sum  1.5499999999999998\n",
      "e [1.  0.7 0.8]\n",
      "example  [1.  0.7 0.8]\n",
      "sum  1.94\n",
      "example  [1.  0.7 0.8]\n",
      "sum  1.94\n",
      "w  [[ 0.   0.3 -0.5]]\n",
      "iteration:  1\n",
      "e [1.  1.  0.3]\n",
      "example  [1.  1.  0.3]\n",
      "sum  0.15000000000000005\n",
      "e [1.  0.4 0.5]\n",
      "example  [1.  0.4 0.5]\n",
      "sum  -0.12999999999999998\n",
      "example  [1.  0.4 0.5]\n",
      "sum  -0.12999999999999998\n",
      "w  2\n",
      "e [1.  0.7 0.8]\n",
      "example  [1.  0.7 0.8]\n",
      "sum  1.49\n",
      "example  [1.  0.7 0.8]\n",
      "sum  1.49\n",
      "w  [[ 0.00000000e+00  1.11022302e-16 -8.00000000e-01]]\n",
      "iteration:  2\n",
      "e [1.  1.  0.3]\n",
      "example  [1.  1.  0.3]\n",
      "sum  -0.23999999999999988\n",
      "example  [1.  1.  0.3]\n",
      "sum  -0.23999999999999988\n",
      "w  2\n",
      "e [1.  0.4 0.5]\n",
      "example  [1.  0.4 0.5]\n",
      "sum  1.15\n",
      "e [1.  0.7 0.8]\n",
      "example  [1.  0.7 0.8]\n",
      "sum  1.2999999999999998\n",
      "example  [1.  0.7 0.8]\n",
      "sum  1.2999999999999998\n",
      "w  [[ 0.   0.3 -1.3]]\n",
      "iteration:  3\n",
      "e [1.  1.  0.3]\n",
      "example  [1.  1.  0.3]\n",
      "sum  -0.08999999999999997\n",
      "example  [1.  1.  0.3]\n",
      "sum  -0.08999999999999997\n",
      "w  2\n",
      "e [1.  0.4 0.5]\n",
      "example  [1.  0.4 0.5]\n",
      "sum  1.02\n",
      "e [1.  0.7 0.8]\n",
      "example  [1.  0.7 0.8]\n",
      "sum  1.1099999999999999\n",
      "example  [1.  0.7 0.8]\n",
      "sum  1.1099999999999999\n",
      "w  [[ 0.   0.6 -1.8]]\n",
      "iteration:  4\n",
      "e [1.  1.  0.3]\n",
      "example  [1.  1.  0.3]\n",
      "sum  0.06000000000000005\n",
      "e [1.  0.4 0.5]\n",
      "example  [1.  0.4 0.5]\n",
      "sum  -0.6599999999999999\n",
      "example  [1.  0.4 0.5]\n",
      "sum  -0.6599999999999999\n",
      "w  2\n",
      "e [1.  0.7 0.8]\n",
      "example  [1.  0.7 0.8]\n",
      "sum  0.6599999999999999\n",
      "example  [1.  0.7 0.8]\n",
      "sum  0.6599999999999999\n",
      "w  [[ 0.   0.3 -2.1]]\n",
      "iteration:  5\n",
      "e [1.  1.  0.3]\n",
      "example  [1.  1.  0.3]\n",
      "sum  -0.32999999999999996\n",
      "example  [1.  1.  0.3]\n",
      "sum  -0.32999999999999996\n",
      "w  2\n",
      "e [1.  0.4 0.5]\n",
      "example  [1.  0.4 0.5]\n",
      "sum  0.62\n",
      "e [1.  0.7 0.8]\n",
      "example  [1.  0.7 0.8]\n",
      "sum  0.46999999999999975\n",
      "example  [1.  0.7 0.8]\n",
      "sum  0.46999999999999975\n",
      "w  [[ 0.   0.6 -2.6]]\n",
      "iteration:  6\n",
      "e [1.  1.  0.3]\n",
      "example  [1.  1.  0.3]\n",
      "sum  -0.17999999999999994\n",
      "example  [1.  1.  0.3]\n",
      "sum  -0.17999999999999994\n",
      "w  2\n",
      "e [1.  0.4 0.5]\n",
      "example  [1.  0.4 0.5]\n",
      "sum  0.49\n",
      "e [1.  0.7 0.8]\n",
      "example  [1.  0.7 0.8]\n",
      "sum  0.2799999999999998\n",
      "example  [1.  0.7 0.8]\n",
      "sum  0.2799999999999998\n",
      "w  [[ 0.   0.9 -3.1]]\n",
      "iteration:  7\n",
      "e [1.  1.  0.3]\n",
      "example  [1.  1.  0.3]\n",
      "sum  -0.030000000000000027\n",
      "example  [1.  1.  0.3]\n",
      "sum  -0.030000000000000027\n",
      "w  2\n",
      "e [1.  0.4 0.5]\n",
      "example  [1.  0.4 0.5]\n",
      "sum  0.3599999999999999\n",
      "e [1.  0.7 0.8]\n",
      "example  [1.  0.7 0.8]\n",
      "sum  0.08999999999999941\n",
      "example  [1.  0.7 0.8]\n",
      "sum  0.08999999999999941\n",
      "w  [[ 0.   1.2 -3.6]]\n",
      "iteration:  8\n",
      "e [1.  1.  0.3]\n",
      "example  [1.  1.  0.3]\n",
      "sum  0.1200000000000001\n",
      "e [1.  0.4 0.5]\n",
      "example  [1.  0.4 0.5]\n",
      "sum  -1.3200000000000003\n",
      "example  [1.  0.4 0.5]\n",
      "sum  -1.3200000000000003\n",
      "w  2\n",
      "e [1.  0.7 0.8]\n",
      "example  [1.  0.7 0.8]\n",
      "sum  -0.3600000000000003\n",
      "iteration:  9\n",
      "e [1.  1.  0.3]\n",
      "example  [1.  1.  0.3]\n",
      "sum  1.67\n",
      "e [1.  0.4 0.5]\n",
      "example  [1.  0.4 0.5]\n",
      "sum  0.08999999999999986\n",
      "e [1.  0.7 0.8]\n",
      "example  [1.  0.7 0.8]\n",
      "sum  -0.3600000000000003\n",
      "final answer  [[ 1.   1.6 -3.1]]\n"
     ]
    }
   ],
   "source": [
    "#\n",
    "import numpy as np\n",
    "\n",
    "w = np.array([[0, 0, 0]])\n",
    "print(\"w shape\", w.shape)\n",
    "\n",
    "examples = np.array([[1, 1, 0.3], \n",
    "                     [1, 0.4, 0.5],\n",
    "                    [1, 0.7, 0.8]])\n",
    "\n",
    "def target(ex):\n",
    "    if ex[1] == 1 and ex[2] == 0.3:\n",
    "        return 1\n",
    "    elif ex[1] == 0.4 and ex[2] == 0.5:\n",
    "        return 1\n",
    "    elif ex[1] == 0.7 and ex[2] == 0.8:\n",
    "        return 0\n",
    "    \n",
    "def predict(example):\n",
    "    sum = example[0] * w[0][0] + example[1] * w[0][1] + example[2] * w[0][2]\n",
    "    # sum = w.dot(example)\n",
    "    print(\"example \", example)\n",
    "    print(\"sum \", sum)\n",
    "    if sum > 0:\n",
    "        return 1\n",
    "    else:\n",
    "        return 0\n",
    "\n",
    "iteration = 0\n",
    "perfect = False\n",
    "while not perfect:\n",
    "    print('iteration: ', iteration)\n",
    "    perfect = True\n",
    "    for e in examples:\n",
    "        print(\"e\", e)\n",
    "        if predict(e) != target(e):\n",
    "            perfect = False\n",
    "            if predict(e) == 0:\n",
    "                w = w + e\n",
    "                print(\"w \", 2)\n",
    "            else:\n",
    "                w = w - e\n",
    "                print(\"w \", w)\n",
    "    iteration += 1\n",
    "\n",
    "print(\"final answer \", w)"
   ]
  },
  {
   "cell_type": "markdown",
   "metadata": {},
   "source": [
    "import numpy as np\n",
    "Y = np.array([1,1,0]) #реальные ответы\n",
    "X = np.array([[1, 1, 0.3, 0],\n",
    "              [1, 0.4, 0.5, 0],\n",
    "              [1, 0.7, 0.8, 0]]) #массив значений\n",
    "X[:,3] = Y.transpose() #подтягиваем ответы в массив значений\n",
    "w = np.array([0,0,0]) #массив весов\n",
    "def Predict(X):\n",
    "    E = X.dot(w.transpose()) #сумматор\n",
    "    p = 1 if E > 0 else 0 #активатор\n",
    "    return p\n",
    "perfect = False\n",
    "while perfect == False:\n",
    "    perfect = True\n",
    "    for ex in X:\n",
    "        #сравниваем предсказание с реальным ответом\n",
    "        if Predict(ex[0:3]) != ex[3]:\n",
    "            perfect = False\n",
    "            #если ответ не совпадает, правим веса\n",
    "            w = w + (ex[3] - Predict(ex[0:3]))*ex[0:3]\n",
    "print(w)"
   ]
  },
  {
   "cell_type": "code",
   "execution_count": null,
   "metadata": {},
   "outputs": [],
   "source": [
    "import numpy as np\n",
    "X=np.array([[1, 1, 0.3, 1],\n",
    "              [1, 0.4, 0.5, 1],\n",
    "              [1, 0.7, 0.8, 0]]) #массив значений\n",
    "W=np.array([0,0,0]) #массив весов\n",
    "while True:\n",
    "    for ex in X:\n",
    "        d=ex[3]-(ex[0:3]@ W.T>0)\n",
    "        W=W+d*ex[0:3]*abs(d)\n",
    "    if not d: break\n",
    "print(W)"
   ]
  },
  {
   "cell_type": "markdown",
   "metadata": {},
   "source": [
    "## 2.3.4\n",
    "\n",
    "Если существует набор весов, который решает проблему, то этот набор весов будет найдет за конечное время.\n",
    "\n"
   ]
  },
  {
   "cell_type": "code",
   "execution_count": null,
   "metadata": {},
   "outputs": [],
   "source": []
  },
  {
   "cell_type": "code",
   "execution_count": null,
   "metadata": {},
   "outputs": [],
   "source": []
  },
  {
   "cell_type": "markdown",
   "metadata": {},
   "source": [
    "## 2.4.11 Нейроны ReLU и softplus\n",
    "\n",
    "### Rectified linear unit (RelU)\n",
    "\n",
    "$$f(x, w, b) = max(w \\cdot x + b, 0)$$\n",
    "\n",
    "$f(x, w, b) $ - выходная активация нейрона\n",
    "\n",
    "$x$ - вектор входных активаций\n",
    "\n",
    "$w$ - вектор весов\n",
    "\n",
    "$b$ - смещение (bias)\n",
    "\n",
    "$max(a,b)$ - максимум из двух элементов\n",
    "\n",
    "\n",
    "### Softplus (Аналитическое приближение ReLU)\n",
    "\n",
    "$$f(x, w, b) = ln(1 + e^{x \\cdot w + b})$$\n",
    "\n",
    "$f(x, w, b) $ - выходная активация нейрона\n",
    "\n",
    "$x$ - вектор входных активаций\n",
    "\n",
    "$w$ - вектор весов\n",
    "\n",
    "$b$ - смещение (bias)\n",
    "\n",
    "$ln(1 + e^t)$ - softplus функция (по определению)\n",
    "\n"
   ]
  },
  {
   "cell_type": "markdown",
   "metadata": {},
   "source": [
    "# 2.5 Градиентный спуск\n",
    "\n",
    "## 2.5.1 Квадратичная целевая функция\n",
    "\n",
    "$$J = \\frac{1}{2} \\sum\\limits_{i=1}^n (\\hat y^{(i)} - y^{(i)})^n $$\n",
    "\n",
    "$\\hat y^{(i)}$ - предсказываемое значение\n",
    "\n",
    "$y^{(i)}$ - реальное значение\n",
    "\n",
    "$\\hat y$ - какой-то вектор\n",
    "\n",
    "$\\hat y^{(i)}$ - какой-то элемент вектора $\\hat y$\n",
    "\n",
    "Целевая функция - мера насколько хорошо ведет себя алгоритм, как хорошо он может справляться с данными.\n",
    "\n",
    "Квадратичния функция потерь не единственный вариант.\n",
    "\n",
    "Функцией потерь (Loss function) - называются потери на одном конкретном примере. \n",
    "В данном случае Loss function это $(\\hat y^{(i)} - y^{(i)})^2$.\n",
    "\n",
    "оно же Cost function .\n",
    "\n",
    "Целевая функция - это то что комбинирует отдельные значения функции потерь для различных примеров в какое-то одно число. Таким образом мы получаем меру успешности поведения нашего алгоритма на наших данных.\n",
    "\n",
    "Целевая функция показывает как сильно ошибалась наша модель. Значит нужно ее минимизировать. \n",
    "\n"
   ]
  },
  {
   "cell_type": "markdown",
   "metadata": {},
   "source": [
    "## 2.5.7 Метод градиентного спуска\n",
    "\n",
    "Градиентной функцией называется вектор, составленный из частных производных этой функции по каждой из ее аргументов\n",
    "\n",
    "Градиент функции J\n",
    "\n",
    "$$ \\nabla J = \n",
    "\\left[\n",
    "\\begin{array}{ccc}\n",
    "\\frac{\\partial J}{\\partial w_1}   \\\\\n",
    "..   \\\\\n",
    "\\frac{\\partial J}{\\partial w_m}   \\\\\n",
    "\\end{array}\n",
    "\\right]\n",
    "$$\n",
    "\n",
    "Градиент связан с приращением функции.\n",
    "\n",
    "$$ \\nabla J = \n",
    "\\left[\n",
    "\\begin{array}{ccc}\n",
    "\\frac{\\partial J}{\\partial w_1}   \\\\\n",
    "\\frac{\\partial J}{\\partial w_2}   \\\\\n",
    "\\end{array}\n",
    "\\right]\n",
    "=\n",
    "\\left[\n",
    "\\begin{array}{ccc}\n",
    "1   \\\\\n",
    "1.2   \\\\\n",
    "\\end{array}\n",
    "\\right]\n",
    "$$\n",
    "\n",
    "Вектор $\\nabla J$ - направление наибольшего роста функции.\n",
    "\n",
    "\n",
    "## 2.5.11 Алгоритм обучения\n",
    "\n",
    "Сначала вычисляем значение градиента в определенной точке.\n",
    "Домножаем значение этого градиента на -1, чтобы получить направление наискорейшего спуска\n",
    "Домножаем то что получилось на некоторую константу ($\\alpha$). Константу скорости обучения (learning rate). Она влияет на величину шагов, которые мы будем совершать.\n",
    "Взяли то что получилось и прибавили к тем весам, которые у нас были. Таким образом, получаем веса, которые у нас будут на следущем шаге алгоритма. \n",
    "\n",
    "$\\varepsilon $ - максимальное значение градиента, при котором считаем, что цель достигнута.\n",
    "\n",
    "\n",
    "\n",
    "\n",
    "\n"
   ]
  },
  {
   "cell_type": "code",
   "execution_count": null,
   "metadata": {},
   "outputs": [],
   "source": []
  },
  {
   "cell_type": "markdown",
   "metadata": {},
   "source": [
    "$\\sum\\limits_{i=1}^n (\\hat{y_{i}} - y_{i})^2 \\rightarrow min$\n",
    "\n",
    "$\\mathrm{grad}\\,\\varphi = \\nabla \\varphi = \\frac {\\partial \\varphi} {\\partial x} \\vec e_x + \\frac {\\partial \\varphi} {\\partial y} \\vec e_y + \\frac {\\partial \\varphi} {\\partial z} \\vec e_z. $"
   ]
  },
  {
   "cell_type": "code",
   "execution_count": null,
   "metadata": {},
   "outputs": [],
   "source": []
  },
  {
   "cell_type": "markdown",
   "metadata": {},
   "source": [
    "Сначала посмотрим, как можно получить градиент, когда у нас целевая функция квадратичная и мы решаем задачу регрессии. Будет использоваться линейный нейрон\n",
    "Во втором случае посмотрим задачу классификации. Будет использоваться сигмоидальный нейрон.\n",
    "\n",
    "Важно: Использовать квадратичную целевую функцию для задачи классификации, не лучшая идея. Это сделано для того чтобы было легче.\n",
    "Важно: Градиентный спуск - это краеугольный камень всего дальнейшего курса.\n",
    "\n",
    "##### Вывод правила обучения для линейного нейрона.\n",
    "\n",
    "Мы собираемся вычислять градиент для случая, когда мы решаем задачу регрессии с помощью линейного нейрона и используя квадратичную функцию потерь.\n",
    "\n",
    "$$J = \\frac{1}{2} \\sum\\limits_{i=1}^n (\\hat y^{(i)} - y^{(i)})^2 $$\n",
    "\n",
    "\n",
    "$w^t$  - вектор весов\n",
    "\n",
    "$x$  - вектор входных активаций \n",
    "\n",
    "Линейный нейрон выглядит следующим образом $\\hat y^{(i)} = w^t x^{(i)}$, при условии что в векторе весов $w^t$ уже хранится базис, первый элемент $x$ всегда единица, тогда получается, что активация линейного нейрона.\n",
    "\n",
    "\n"
   ]
  },
  {
   "cell_type": "code",
   "execution_count": null,
   "metadata": {},
   "outputs": [],
   "source": [
    "##### 2.6.5\n",
    "\n",
    "x.shape=(n,m) , w.shape=(m,1)\n",
    "x.shape=(m,n) , w.shape=(m,1)\n",
    "x.shape=(m,n) , w.shape=(1,m)\n",
    "x.shape=(n,m), w.shape=(1,m)\n",
    "\n",
    "w.T.dot(x).T\n",
    "x.dot(w.T)\n",
    "x.dot(w)\n",
    "w.dot(x).T"
   ]
  },
  {
   "cell_type": "code",
   "execution_count": 14,
   "metadata": {},
   "outputs": [],
   "source": [
    "import numpy as np\n",
    "import random"
   ]
  },
  {
   "cell_type": "code",
   "execution_count": 18,
   "metadata": {},
   "outputs": [],
   "source": [
    "n = 2\n",
    "m = 3"
   ]
  },
  {
   "cell_type": "code",
   "execution_count": 25,
   "metadata": {},
   "outputs": [],
   "source": [
    "x = np.array(random.sample(range(9), 6)) # одномерный массив из 12 случайных чисел от 1 до 1000\n",
    "w = np.array(random.sample(range(9), m))"
   ]
  },
  {
   "cell_type": "code",
   "execution_count": 27,
   "metadata": {},
   "outputs": [
    {
     "name": "stdout",
     "output_type": "stream",
     "text": [
      "[[1 0 6]\n",
      " [5 3 8]]\n",
      "[[6]\n",
      " [2]\n",
      " [4]]\n"
     ]
    }
   ],
   "source": [
    "#1 x.shape=(n,m), w.shape=(m,1)\n",
    "x = x.reshape((n, m)) \n",
    "w = w.reshape((m, 1))\n",
    "print(x)\n",
    "print(w)"
   ]
  },
  {
   "cell_type": "code",
   "execution_count": 30,
   "metadata": {},
   "outputs": [
    {
     "data": {
      "text/plain": [
       "array([[30],\n",
       "       [68]])"
      ]
     },
     "execution_count": 30,
     "metadata": {},
     "output_type": "execute_result"
    }
   ],
   "source": [
    "x.dot(w)"
   ]
  },
  {
   "cell_type": "code",
   "execution_count": 32,
   "metadata": {},
   "outputs": [
    {
     "name": "stdout",
     "output_type": "stream",
     "text": [
      "[[1 0]\n",
      " [6 5]\n",
      " [3 8]]\n",
      "[[6]\n",
      " [2]\n",
      " [4]]\n"
     ]
    }
   ],
   "source": [
    "#2 x.shape=(m,n) , w.shape=(m,1)\n",
    "x = x.reshape((m, n)) \n",
    "w = w.reshape((m, 1))\n",
    "print(x)\n",
    "print(w)"
   ]
  },
  {
   "cell_type": "code",
   "execution_count": 36,
   "metadata": {},
   "outputs": [
    {
     "data": {
      "text/plain": [
       "array([[30],\n",
       "       [42]])"
      ]
     },
     "execution_count": 36,
     "metadata": {},
     "output_type": "execute_result"
    }
   ],
   "source": [
    "w.T.dot(x).T"
   ]
  },
  {
   "cell_type": "code",
   "execution_count": 37,
   "metadata": {},
   "outputs": [
    {
     "name": "stdout",
     "output_type": "stream",
     "text": [
      "[[1 0]\n",
      " [6 5]\n",
      " [3 8]]\n",
      "[[6 2 4]]\n"
     ]
    }
   ],
   "source": [
    "#3 x.shape=(m,n), w.shape=(1,m)\n",
    "x = x.reshape((m, n)) \n",
    "w = w.reshape((1, m))\n",
    "print(x)\n",
    "print(w)"
   ]
  },
  {
   "cell_type": "code",
   "execution_count": 39,
   "metadata": {},
   "outputs": [
    {
     "data": {
      "text/plain": [
       "array([[30],\n",
       "       [42]])"
      ]
     },
     "execution_count": 39,
     "metadata": {},
     "output_type": "execute_result"
    }
   ],
   "source": [
    "w.dot(x).T"
   ]
  },
  {
   "cell_type": "code",
   "execution_count": 40,
   "metadata": {},
   "outputs": [
    {
     "name": "stdout",
     "output_type": "stream",
     "text": [
      "[[1 0 6]\n",
      " [5 3 8]]\n",
      "[[6 2 4]]\n"
     ]
    }
   ],
   "source": [
    "#4 x.shape=(n,m), w.shape=(1,m)\n",
    "x = x.reshape((n, m)) \n",
    "w = w.reshape((1, m))\n",
    "print(x)\n",
    "print(w)"
   ]
  },
  {
   "cell_type": "code",
   "execution_count": 41,
   "metadata": {},
   "outputs": [
    {
     "data": {
      "text/plain": [
       "array([[30],\n",
       "       [68]])"
      ]
     },
     "execution_count": 41,
     "metadata": {},
     "output_type": "execute_result"
    }
   ],
   "source": [
    "x.dot(w.T)"
   ]
  },
  {
   "cell_type": "code",
   "execution_count": null,
   "metadata": {},
   "outputs": [],
   "source": []
  },
  {
   "cell_type": "markdown",
   "metadata": {},
   "source": [
    "##### Вывод правила обучения для линейного нейрона.\n",
    "\n",
    "\n",
    "$$ \\nabla J = \n",
    "\\left[\n",
    "\\begin{array}{ccc}\n",
    "..   \\\\\n",
    "\\frac{\\partial J}{\\partial w_1}   \\\\\n",
    "..   \\\\\n",
    "\\end{array}\n",
    "\\right]\n",
    "$$\n",
    "\n",
    "\n"
   ]
  },
  {
   "cell_type": "code",
   "execution_count": null,
   "metadata": {},
   "outputs": [],
   "source": []
  },
  {
   "cell_type": "code",
   "execution_count": null,
   "metadata": {},
   "outputs": [],
   "source": []
  },
  {
   "cell_type": "code",
   "execution_count": null,
   "metadata": {},
   "outputs": [],
   "source": []
  },
  {
   "cell_type": "code",
   "execution_count": null,
   "metadata": {},
   "outputs": [],
   "source": []
  },
  {
   "cell_type": "code",
   "execution_count": null,
   "metadata": {},
   "outputs": [],
   "source": []
  }
 ],
 "metadata": {
  "kernelspec": {
   "display_name": "Python 3",
   "language": "python",
   "name": "python3"
  },
  "language_info": {
   "codemirror_mode": {
    "name": "ipython",
    "version": 3
   },
   "file_extension": ".py",
   "mimetype": "text/x-python",
   "name": "python",
   "nbconvert_exporter": "python",
   "pygments_lexer": "ipython3",
   "version": "3.7.0"
  }
 },
 "nbformat": 4,
 "nbformat_minor": 2
}
