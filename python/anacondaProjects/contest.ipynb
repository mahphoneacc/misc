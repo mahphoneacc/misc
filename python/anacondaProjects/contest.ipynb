{
 "cells": [
  {
   "cell_type": "code",
   "execution_count": null,
   "metadata": {},
   "outputs": [],
   "source": []
  },
  {
   "cell_type": "code",
   "execution_count": null,
   "metadata": {},
   "outputs": [],
   "source": [
    "Example: Finding a Motif in DNA\n",
    "Given two strings s and t, t is a substring of s if t is contained as a contiguous collection of symbols in contiguous collection of symbols in s (as a result, t must be no longer than s). \n",
    "\n",
    "The position of a symbol in a string is the total number of symbols found to its left, including itself (e.g., the positions of all occurrences of 'U' in \"AUGCUUCAGAAAGGUCUUACG\" are 2, 5, 6, 15, 17, and 18). The symbol at position i of s is denoted by s[i]. \n",
    "\n",
    "A substring of s can be represented as s[j:k], where j and k represent the starting and ending positions of the substring in s; for example, if s = \"AUGCUUCAGAAAGGUCUUACG\", then s[2:5] = \"UGCU\". \n",
    "\n",
    "The location of a substring s[j:k] is its beginning position j; note that t will have multiple locations in s if it occurs more than once as a substring of s (see the Sample below). \n",
    "\n",
    "Download the test from https://stepik.org/media/attachments/lesson/60794/test-B.zip.\n",
    "\n",
    "You have to upload the answer to the provided test, not the source code! \n",
    "\n",
    "Input format\n",
    "The first line of the input contains the number of tests. Each test is described by two lines: the first line contains s and the second line contains t. Lengths of the strings do not exceed 1 kb.\n",
    "\n",
    "Output format\n",
    "For each test output on a separate line all locations of t as a substring of s in any order.\n",
    "\n",
    "The indexing in this problem starts from 1!\n",
    "\n",
    "Scoring\n",
    "This is a non-scoring problem and you will get 0 points for solving it.\n",
    "\n",
    "Sample input\n",
    "\n",
    "1\n",
    "GATATATGCATATACTT\n",
    "TAT\n",
    "Sample output\n",
    "\n",
    "5 3 11"
   ]
  },
  {
   "cell_type": "code",
   "execution_count": 21,
   "metadata": {},
   "outputs": [
    {
     "name": "stdout",
     "output_type": "stream",
     "text": [
      " 3 10 49 153 176 206 213 262 278 285 301 308 371 411 608 624 718 736 752 759 793 845\n",
      " 15 34 49 56 117 193 218 254 261 268 313 371 406 413 446 453 512 519 562 614 658 673 680 736 770 777 848\n",
      " 38 47 65 104 121 227 244 278 285 297 304 319 346 353 360 367 382 419 440 489 496 511 591 609 629 649 698 705 749 765 772\n",
      " 30 81 96 106 129 146 192 220 329 424 490 643 714 759 809 832\n",
      " 29 58 78 103 130 149 259 266 405 420 450 554 570 585 630 665 714 729\n",
      " 3 88 95 110 205 255 333 351 488 512 519 578 604 612 633 640 670 705 713 720 771 779\n",
      " 19 155 202 217 224 236 284 340 391 398 419 426 435 454 461 482 566 583 638 645 696 712 736\n",
      " 155 162 222 304 477 484 527 555 570 585 592 618 625 648 686 755 830 837 860\n",
      " 2 34 71 136 183 199 242 280 295 304 341 396 461 479 494 501 518 560 567 574 662 705 712 722 729 755 773 809\n",
      " 20 38 45 74 81 96 129 185 192 264 271 287 294 328 365 372 401 408 415 422 437 562 610 660 755 770 785 827 887 897\n"
     ]
    }
   ],
   "source": [
    "#*Чтение из файла*\n",
    "\n",
    "filename = 'contest/1.1.3input.txt'\n",
    "with open(filename, 'r') as inf, open('contest/1.1.3out.txt', 'w') as ouf:\n",
    "    testcount = inf.readline()\n",
    "    for line in inf: \n",
    "        #print('line----')\n",
    "        outstr = ''\n",
    "        s = line.rstrip()\n",
    "        t = inf.readline().rstrip()\n",
    "        #print('s=\"\"', s,'\"\"')\n",
    "        #print('t=\"\"', t,'\"\"')\n",
    "        substrlen = len(t)\n",
    "        #print('len(line)', len(line))\n",
    "        #print('len(t)', len(t))\n",
    "        for ch in range(len(line) - substrlen +1):\n",
    "            #print('subs1: ',s[ch:ch+substrlen])\n",
    "            if s[ch:ch+substrlen] == t:\n",
    "                outstr += ' ' + str(ch+1)\n",
    "        if outstr != '':\n",
    "            ouf.write(outstr + '\\n')\n",
    "            print(outstr)\n",
    "\n",
    "inf.close()\n"
   ]
  },
  {
   "cell_type": "code",
   "execution_count": null,
   "metadata": {},
   "outputs": [],
   "source": []
  },
  {
   "cell_type": "markdown",
   "metadata": {},
   "source": [
    "Bee Population\n",
    "Alex starts to grow a bee population. Since he cannot account for all the bees, he decides to count the amount of the bees in kilograms! Each day the population of bees evolves. Initially, on the first day, there were n1 kilograms of the bees. Suppose that at the i-th day the amount of bees is ni kilograms then on the next day the number of bees can be calculated by the following rule:\n",
    "ni+1=a⋅ni−b⋅n2i \n",
    "Alex now wonders how big the population will become if he grows it indefinitely. Please, help him.\n",
    "\n",
    "Input format\n",
    "The first line of the input contains one integer T (1≤T≤50)− the number of test cases.\n",
    "\n",
    "Each of the next T lines contains a description of a test case. It consists of three real numbers with no more than three digits after the decimal point n1, a and b − the size of the initial generation and the trend constants (0≤n1≤10, 0≤a,b≤3).\n",
    "\n",
    "Output format\n",
    "The i-th line of the output should contain the limit of the population size in kilograms in the i-th test. If there is no limit output \"−1\".\n",
    "\n",
    "Your answer will be considered correct if its absolute or relative error doesn't exceed 10−4.\n",
    "\n",
    "Sample input\n",
    "3\n",
    "0.5 1 1\n",
    "10 1 2\n",
    "0.5 1.5 1\n",
    "Sample output\n",
    "0\n",
    "0\n",
    "0.5"
   ]
  },
  {
   "cell_type": "code",
   "execution_count": null,
   "metadata": {},
   "outputs": [],
   "source": []
  },
  {
   "cell_type": "code",
   "execution_count": null,
   "metadata": {},
   "outputs": [],
   "source": []
  },
  {
   "cell_type": "code",
   "execution_count": null,
   "metadata": {},
   "outputs": [],
   "source": []
  },
  {
   "cell_type": "code",
   "execution_count": null,
   "metadata": {},
   "outputs": [],
   "source": []
  },
  {
   "cell_type": "code",
   "execution_count": null,
   "metadata": {},
   "outputs": [],
   "source": []
  }
 ],
 "metadata": {
  "kernelspec": {
   "display_name": "Python 3",
   "language": "python",
   "name": "python3"
  },
  "language_info": {
   "codemirror_mode": {
    "name": "ipython",
    "version": 3
   },
   "file_extension": ".py",
   "mimetype": "text/x-python",
   "name": "python",
   "nbconvert_exporter": "python",
   "pygments_lexer": "ipython3",
   "version": "3.7.0"
  }
 },
 "nbformat": 4,
 "nbformat_minor": 2
}
