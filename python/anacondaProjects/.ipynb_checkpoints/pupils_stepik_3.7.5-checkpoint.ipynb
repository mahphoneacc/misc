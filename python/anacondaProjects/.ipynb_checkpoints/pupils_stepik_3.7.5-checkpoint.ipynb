{
 "cells": [
  {
   "cell_type": "code",
   "execution_count": null,
   "metadata": {
    "collapsed": true
   },
   "outputs": [],
   "source": [
    "Дан файл с таблицей в формате TSV (англ. tab separated values — значения, разделённые табуляцией) с информацией о росте школьников разных классов.\n",
    "\n",
    "Напишите программу, которая прочитает этот файл и подсчитает для каждого класса средний рост учащегося.\n",
    "\n",
    "Файл состоит из набора строк, каждая из которых представляет собой три поля:\n",
    "Класс Фамилия Рост\n",
    "\n",
    "Класс обозначается только числом. Буквенные модификаторы не используются. Номер класса может быть от 1 до 11 включительно. В фамилии нет пробелов, а в качестве роста используется натуральное число, но при подсчёте среднего требуется вычислить значение в виде вещественного числа.\n",
    "\n",
    "Выводить информацию о среднем росте следует в порядке возрастания номера класса (для классов с первого по одиннадцатый). Если про какой-то класс нет информации, необходимо вывести напротив него прочерк, например:\n",
    "\n",
    "Sample Input:\n",
    "6\tВяххи\t159\n",
    "11\tФедотов\t172\n",
    "7\tБондарев\t158\n",
    "6\tЧайкина\t153\n",
    "Sample Output:\n",
    "1 -\n",
    "2 -\n",
    "3 -\n",
    "4 -\n",
    "5 -\n",
    "6 156.0\n",
    "7 158.0\n",
    "8 -\n",
    "9 -\n",
    "10 -\n",
    "11 172.0"
   ]
  },
  {
   "cell_type": "code",
   "execution_count": 19,
   "metadata": {},
   "outputs": [
    {
     "name": "stdout",
     "output_type": "stream",
     "text": [
      "{'1': [0, 0], '2': [0, 0], '3': [0, 0], '4': [0, 0], '5': [0, 0], '6': [0, 0], '7': [0, 0], '8': [0, 0], '9': [0, 0], '10': [0, 0], '11': [0, 0]}\n"
     ]
    }
   ],
   "source": [
    "in_fname = \"ds_pupils_stepik_3.7.5.tsv\"\n",
    "in_f = open(in_fname, 'r')\n",
    "pup_h = {}\n",
    "for i in range(1, 12):\n",
    "    pup_h[str(i)]=[0, 0]\n",
    "print(pup_h)"
   ]
  },
  {
   "cell_type": "code",
   "execution_count": 20,
   "metadata": {},
   "outputs": [
    {
     "name": "stdout",
     "output_type": "stream",
     "text": [
      "['6', 'Вяххи', '159']\n",
      "['11', 'Федотов', '172']\n",
      "['7', 'Бондарев', '158']\n",
      "['6', 'Чайкина', '153']\n",
      "{'1': [0, 0], '2': [0, 0], '3': [0, 0], '4': [0, 0], '5': [0, 0], '6': [2, 312], '7': [1, 158], '8': [0, 0], '9': [0, 0], '10': [0, 0], '11': [1, 172]}\n"
     ]
    }
   ],
   "source": [
    "for line in in_f: \n",
    "    row = line.strip().split('\\t')\n",
    "    print(row)\n",
    "    # pup_h[row[0]] = [pup_h[row[0]][0] + 1, pup_h[row[0]][1] + row[2]]\n",
    "    pup_h[row[0]] = [pup_h[row[0]][0] + 1, pup_h[row[0]][1] + int(row[2])]\n",
    "print (pup_h)\n"
   ]
  },
  {
   "cell_type": "code",
   "execution_count": null,
   "metadata": {
    "collapsed": true
   },
   "outputs": [],
   "source": []
  }
 ],
 "metadata": {
  "kernelspec": {
   "display_name": "Python 3",
   "language": "python",
   "name": "python3"
  },
  "language_info": {
   "codemirror_mode": {
    "name": "ipython",
    "version": 3
   },
   "file_extension": ".py",
   "mimetype": "text/x-python",
   "name": "python",
   "nbconvert_exporter": "python",
   "pygments_lexer": "ipython3",
   "version": "3.6.3"
  }
 },
 "nbformat": 4,
 "nbformat_minor": 2
}
